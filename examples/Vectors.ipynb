{
 "metadata": {
  "name": "",
  "signature": "sha256:1f4cae7f9f106bc0250dba63cc9823603337620e873a83b95ce73460eb1ff344"
 },
 "nbformat": 3,
 "nbformat_minor": 0,
 "worksheets": [
  {
   "cells": [
    {
     "cell_type": "code",
     "collapsed": false,
     "input": [
      "from PyGravity import Vector, round_sig"
     ],
     "language": "python",
     "metadata": {},
     "outputs": [],
     "prompt_number": 1
    },
    {
     "cell_type": "code",
     "collapsed": false,
     "input": [
      "# Vector.array_mistmatch() returns true when the two vectors have differing dimensions\n",
      "a = Vector([1,2])\n",
      "b = Vector([1])\n",
      "print a.array_mismatch(b)\n",
      "print a.array_mismatch(a)"
     ],
     "language": "python",
     "metadata": {},
     "outputs": [
      {
       "output_type": "stream",
       "stream": "stdout",
       "text": [
        "True\n",
        "False\n"
       ]
      }
     ],
     "prompt_number": 2
    },
    {
     "cell_type": "code",
     "collapsed": false,
     "input": [
      "#rounding vectors\n",
      "a = Vector(['1.11111111111','2.22222222222222'])\n",
      "print '3  -> ', a.round(3)\n",
      "print '3.1-> ', a.round(3.1)\n",
      "print '6 -> ',a.round(6)\n",
      "\n",
      "#Vector.round() returns new vector:\n",
      "b = a.round(4.1)\n",
      "print 'a = ', a\n",
      "print 'b = ', b\n",
      "\n"
     ],
     "language": "python",
     "metadata": {},
     "outputs": [
      {
       "output_type": "stream",
       "stream": "stdout",
       "text": [
        "3  ->  (1.11,2.22)\n",
        "3.1->  (1.11,2.22)\n",
        "6 ->  (1.11111,2.22222)\n",
        "a =  (1.11111111111,2.22222222222222)\n",
        "b =  (1.111,2.222)\n"
       ]
      }
     ],
     "prompt_number": 3
    },
    {
     "cell_type": "code",
     "collapsed": false,
     "input": [
      "#Playing with adding, multiplying by scalars and equalities\n",
      "array = [0]\n",
      "array2 = ['1.00000000000000000000000000000002']\n",
      "array3 = ['1.00000000000000000000000000000001']\n",
      "a = Vector([1.1+32,2e30])\n",
      "A = Vector(array2)\n",
      "B = Vector(array3)\n",
      "Z = Vector(array)\n",
      "\n",
      "print 'A + B = ', A+B\n",
      "print 'a * 2 = ', a * 2\n",
      "print 'a* 2.1 = ', a * 2.1\n",
      "\n",
      "print A + B == A+A\n",
      "print A-B == Z\n",
      "print A == A\n"
     ],
     "language": "python",
     "metadata": {},
     "outputs": [
      {
       "output_type": "stream",
       "stream": "stdout",
       "text": [
        "A + B =  (2.000000000000000000000000000)\n",
        "a * 2 =  (66.2,4E+30)\n",
        "a* 2.1 =  (69.51000000000000293987056921,4.200000000000000177635683940E+30)\n",
        "True\n",
        "False\n",
        "True\n"
       ]
      }
     ],
     "prompt_number": 4
    },
    {
     "cell_type": "code",
     "collapsed": false,
     "input": [
      "#Vector.magnitude returns magnitude of vector\n",
      "a = Vector(['3','4'])\n",
      "print a, a.magnitude()\n",
      "\n",
      "b = Vector(['2','4','4'])\n",
      "print b, b.magnitude()\n",
      "\n",
      "c = Vector(['2','2','2','2'])\n",
      "print c, c.magnitude()"
     ],
     "language": "python",
     "metadata": {},
     "outputs": [
      {
       "output_type": "stream",
       "stream": "stdout",
       "text": [
        "(3,4) 5\n",
        "(2,4,4) 6\n",
        "(2,2,2,2) 4\n"
       ]
      }
     ],
     "prompt_number": 5
    },
    {
     "cell_type": "code",
     "collapsed": false,
     "input": [
      "#multiplying  by more scalars\n",
      "T = Vector(['1.1111111111111111111111111111111111111222'])\n",
      "M = T * 1.111111122\n",
      "print M\n",
      "print M.round(2.12)"
     ],
     "language": "python",
     "metadata": {},
     "outputs": [
      {
       "output_type": "stream",
       "stream": "stdout",
       "text": [
        "(1.234567913333333402350591415)\n",
        "(1.2)\n"
       ]
      }
     ],
     "prompt_number": 6
    },
    {
     "cell_type": "code",
     "collapsed": false,
     "input": [
      "a = Vector(['1.12','2.34','3.45'])\n",
      "ans_a = Vector(['0.259467','0542101','0.799252'])\n",
      "print a.unit()"
     ],
     "language": "python",
     "metadata": {},
     "outputs": [
      {
       "output_type": "stream",
       "stream": "stdout",
       "text": [
        "(0.2594671955118020195596948633,0.5421011049085863622943624822,0.7992516290318901495365600699)\n"
       ]
      }
     ],
     "prompt_number": 7
    },
    {
     "cell_type": "code",
     "collapsed": false,
     "input": [],
     "language": "python",
     "metadata": {},
     "outputs": []
    }
   ],
   "metadata": {}
  }
 ]
}