{
 "metadata": {
  "name": ""
 },
 "nbformat": 3,
 "nbformat_minor": 0,
 "worksheets": [
  {
   "cells": [
    {
     "cell_type": "code",
     "collapsed": false,
     "input": [
      "from libs import Vector, Particle"
     ],
     "language": "python",
     "metadata": {},
     "outputs": [],
     "prompt_number": 1
    },
    {
     "cell_type": "code",
     "collapsed": false,
     "input": [
      "# make new particle at position 1,1 with no velocity and mass 10\n",
      "A = Particle(Vector(['1','1']), Vector(['0','0']), 10)\n",
      "print A\n",
      "print '\\nmoving A\\n'\n",
      "A.move()\n",
      "print A\n"
     ],
     "language": "python",
     "metadata": {},
     "outputs": [
      {
       "output_type": "stream",
       "stream": "stdout",
       "text": [
        "Position: (1,1)\n",
        "Velocity: (0,0)\n",
        "Mass: 10\n",
        "\n",
        "moving A\n",
        "\n",
        "Position: (1,1)\n",
        "Velocity: (0,0)\n",
        "Mass: 10\n"
       ]
      }
     ],
     "prompt_number": 5
    },
    {
     "cell_type": "code",
     "collapsed": false,
     "input": [
      "#Make a particle with non-zero velocity and move it\n",
      "B = Particle(Vector(['1','1']), Vector(['1','2']), 10)\n",
      "print B\n",
      "print '\\nmoving b once\\n'\n",
      "B.move()\n",
      "print B\n",
      "print '\\n moving B 5 iterations\\n'\n",
      "for i in range(5):\n",
      "    B.move()\n",
      "print B"
     ],
     "language": "python",
     "metadata": {},
     "outputs": [
      {
       "output_type": "stream",
       "stream": "stdout",
       "text": [
        "Position: (1,1)\n",
        "Velocity: (1,2)\n",
        "Mass: 10\n",
        "\n",
        "moving b once\n",
        "\n",
        "Position: (2,3)\n",
        "Velocity: (1,2)\n",
        "Mass: 10\n",
        "\n",
        " moving B 5 iterations\n",
        "\n",
        "Position: (7,13)\n",
        "Velocity: (1,2)\n",
        "Mass: 10\n"
       ]
      }
     ],
     "prompt_number": 11
    },
    {
     "cell_type": "code",
     "collapsed": false,
     "input": [
      "#Particle that starts stationary, but is then accelerated\n",
      "C = Particle(Vector(['1','1']), Vector(['0','0']), 10)\n",
      "print C\n",
      "print '\\naccelerating by 1,1\\n'\n",
      "C.accelerate(Vector(['1','1']))\n",
      "print C\n",
      "print '\\nmoving a couple times\\n'\n",
      "for i in range(3):\n",
      "    C.move()\n",
      "print C\n",
      "print '\\nnow comming back to a stop\\n'\n",
      "C.accelerate(Vector(['-1','-1']))\n",
      "print C\n",
      "print '\\n trying to move again\\n'\n",
      "for i in range(3):\n",
      "    C.move()\n",
      "print C\n"
     ],
     "language": "python",
     "metadata": {},
     "outputs": [
      {
       "output_type": "stream",
       "stream": "stdout",
       "text": [
        "Position: (1,1)\n",
        "Velocity: (0,0)\n",
        "Mass: 10\n",
        "\n",
        "accelerating by 1,1\n",
        "\n",
        "Position: (1,1)\n",
        "Velocity: (1,1)\n",
        "Mass: 10\n",
        "\n",
        "moving a couple times\n",
        "\n",
        "Position: (4,4)\n",
        "Velocity: (1,1)\n",
        "Mass: 10\n",
        "\n",
        "now comming back to a stop\n",
        "\n",
        "Position: (4,4)\n",
        "Velocity: (0,0)\n",
        "Mass: 10\n",
        "\n",
        " trying to move again\n",
        "\n",
        "Position: (4,4)\n",
        "Velocity: (0,0)\n",
        "Mass: 10\n"
       ]
      }
     ],
     "prompt_number": 14
    },
    {
     "cell_type": "code",
     "collapsed": false,
     "input": [],
     "language": "python",
     "metadata": {},
     "outputs": []
    }
   ],
   "metadata": {}
  }
 ]
}