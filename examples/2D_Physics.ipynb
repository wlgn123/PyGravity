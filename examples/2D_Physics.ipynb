{
 "metadata": {
  "name": "",
  "signature": "sha256:9c05ef00187aac841ab213f51454b5bb411676eb4a7729d9e83d3df5e1a2e7f8"
 },
 "nbformat": 3,
 "nbformat_minor": 0,
 "worksheets": [
  {
   "cells": [
    {
     "cell_type": "code",
     "collapsed": true,
     "input": [
      "import numpy as np\n",
      "import matplotlib.pyplot as plt\n",
      "import sys\n",
      "import PyGravity\n",
      "\n",
      "base = PyGravity.PyGravity()    # start by making base instance \n",
      "base.set_dimension(3)           # not needed for dim 3, but here it is\n",
      "\n",
      "\n",
      "base.read_file('example_data.csv')\n",
      "\n",
      "base.set_time_interval(5000000000)\n",
      "base.set_fast(True)\n",
      "\n",
      "ax = []\n",
      "ay = []\n",
      "bx = []\n",
      "by = []\n",
      "cx = []\n",
      "cy = []\n",
      "dx = []\n",
      "dy = []\n",
      "for i in range(20000):\n",
      "\ttry:\n",
      "\t\tif i % 200 == 0:\n",
      "\t\t\tprint i\n",
      "\t\t\t\n",
      "\t\t\tax.append(base.particle_list[0].P[0])\n",
      "\t\t\tay.append(base.particle_list[0].P[1])\n",
      "\t\t\tbx.append(base.particle_list[1].P[0])\n",
      "\t\t\tby.append(base.particle_list[1].P[1])\n",
      "\t\t\tcx.append(base.particle_list[2].P[0])\n",
      "\t\t\tcy.append(base.particle_list[2].P[1])\n",
      "\t\t\tdx.append(base.particle_list[3].P[0])\n",
      "\t\t\tdy.append(base.particle_list[3].P[1])\n",
      "\n",
      "\t\t\tif PyGravity.Physics.escaping(base.particle_list) != []:\n",
      "\t\t\t\tprint PyGravity.Physics.escaping(base.particle_list)\n",
      "\t\t\t\tbreak\n",
      "\t\t\t\n",
      "\t\t\n",
      "\t\tbase.step_all()\n",
      "\t\t\n",
      "\texcept RuntimeWarning:\n",
      "\t\tsys.exit(1)\n",
      "\t\n",
      "print 'Time: ', (base.currant_time), 'mins'\n",
      "plt.scatter(ax, ay, s=10, c='b', alpha=0.5)\n",
      "plt.scatter(bx, by, s=10, c='r', alpha=0.5)\n",
      "plt.scatter(cx, cy, s=10, c='g', alpha=0.5)\n",
      "plt.scatter(dx, dy, s=10, c='y', alpha=0.5)\n",
      "plt.show()\n"
     ],
     "language": "python",
     "metadata": {},
     "outputs": [
      {
       "output_type": "stream",
       "stream": "stdout",
       "text": [
        "0\n",
        "200"
       ]
      },
      {
       "output_type": "stream",
       "stream": "stdout",
       "text": [
        "\n",
        "['a', 'b', 'c', 'd']\n",
        "Time:  0 mins\n"
       ]
      }
     ],
     "prompt_number": 3
    },
    {
     "cell_type": "code",
     "collapsed": false,
     "input": [],
     "language": "python",
     "metadata": {},
     "outputs": [],
     "prompt_number": 3
    },
    {
     "cell_type": "code",
     "collapsed": false,
     "input": [],
     "language": "python",
     "metadata": {},
     "outputs": []
    }
   ],
   "metadata": {}
  }
 ]
}