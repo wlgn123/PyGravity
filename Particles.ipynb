{
 "metadata": {
  "name": ""
 },
 "nbformat": 3,
 "nbformat_minor": 0,
 "worksheets": [
  {
   "cells": [
    {
     "cell_type": "code",
     "collapsed": false,
     "input": [
      "from libs import Vector, Particle"
     ],
     "language": "python",
     "metadata": {},
     "outputs": [],
     "prompt_number": 1
    },
    {
     "cell_type": "code",
     "collapsed": false,
     "input": [
      "# make new particle at position 1,1 with no velocity and mass 10\n",
      "A = Particle(Vector(['1','1']), Vector(['0','0']), 10)\n",
      "print A\n",
      "print '\\nmoving A\\n'\n",
      "A.move(1)\n",
      "print A\n"
     ],
     "language": "python",
     "metadata": {},
     "outputs": [
      {
       "output_type": "stream",
       "stream": "stdout",
       "text": [
        "Position: (1,1)\n",
        "Velocity: (0,0)\n",
        "Mass: 10\n",
        "\n",
        "moving A\n",
        "\n",
        "Position: (1,1)\n",
        "Velocity: (0,0)\n",
        "Mass: 10\n"
       ]
      }
     ],
     "prompt_number": 3
    },
    {
     "cell_type": "code",
     "collapsed": false,
     "input": [
      "#Make a particle with non-zero velocity and move it\n",
      "B = Particle(Vector(['1','1']), Vector(['1','2']), 10)\n",
      "print B\n",
      "print '\\nmoving b for 1 second\\n'\n",
      "B.move(1)\n",
      "print B\n",
      "print '\\n moving B for 5 seconds\\n'\n",
      "B.move(5)\n",
      "print B"
     ],
     "language": "python",
     "metadata": {},
     "outputs": [
      {
       "output_type": "stream",
       "stream": "stdout",
       "text": [
        "Position: (1,1)\n",
        "Velocity: (1,2)\n",
        "Mass: 10\n",
        "\n",
        "moving b for 1 second\n",
        "\n",
        "Position: (2,3)\n",
        "Velocity: (1,2)\n",
        "Mass: 10\n",
        "\n",
        " moving B for 5 seconds\n",
        "\n",
        "Position: (7,13)\n",
        "Velocity: (1,2)\n",
        "Mass: 10\n"
       ]
      }
     ],
     "prompt_number": 5
    },
    {
     "cell_type": "code",
     "collapsed": false,
     "input": [
      "#Particle that starts stationary, but is then accelerated\n",
      "C = Particle(Vector(['1','1']), Vector(['0','0']), 10)\n",
      "print C\n",
      "print '\\naccelerating by 1,1 for 1 second\\n'\n",
      "C.accelerate(Vector(['1','1']), 1)\n",
      "print C\n",
      "print '\\nmoving a couple times\\n'\n",
      "C.move(3)\n",
      "print C\n",
      "print '\\nnow comming back to a stop\\n'\n",
      "C.accelerate(Vector(['-1','-1']), 1)\n",
      "print C\n",
      "print '\\n trying to move again\\n'\n",
      "for i in range(3):\n",
      "    C.move()\n",
      "print C\n"
     ],
     "language": "python",
     "metadata": {},
     "outputs": [
      {
       "ename": "TypeError",
       "evalue": "move() takes exactly 2 arguments (1 given)",
       "output_type": "pyerr",
       "traceback": [
        "\u001b[0;31m---------------------------------------------------------------------------\u001b[0m\n\u001b[0;31mTypeError\u001b[0m                                 Traceback (most recent call last)",
        "\u001b[0;32m<ipython-input-7-98ea3befe8b2>\u001b[0m in \u001b[0;36m<module>\u001b[0;34m()\u001b[0m\n\u001b[1;32m     13\u001b[0m \u001b[0;32mprint\u001b[0m \u001b[0;34m'\\n trying to move again\\n'\u001b[0m\u001b[0;34m\u001b[0m\u001b[0m\n\u001b[1;32m     14\u001b[0m \u001b[0;32mfor\u001b[0m \u001b[0mi\u001b[0m \u001b[0;32min\u001b[0m \u001b[0mrange\u001b[0m\u001b[0;34m(\u001b[0m\u001b[0;36m3\u001b[0m\u001b[0;34m)\u001b[0m\u001b[0;34m:\u001b[0m\u001b[0;34m\u001b[0m\u001b[0m\n\u001b[0;32m---> 15\u001b[0;31m     \u001b[0mC\u001b[0m\u001b[0;34m.\u001b[0m\u001b[0mmove\u001b[0m\u001b[0;34m(\u001b[0m\u001b[0;34m)\u001b[0m\u001b[0;34m\u001b[0m\u001b[0m\n\u001b[0m\u001b[1;32m     16\u001b[0m \u001b[0;32mprint\u001b[0m \u001b[0mC\u001b[0m\u001b[0;34m\u001b[0m\u001b[0m\n",
        "\u001b[0;31mTypeError\u001b[0m: move() takes exactly 2 arguments (1 given)"
       ]
      },
      {
       "output_type": "stream",
       "stream": "stdout",
       "text": [
        "Position: (1,1)\n",
        "Velocity: (0,0)\n",
        "Mass: 10\n",
        "\n",
        "accelerating by 1,1 for 1 second\n",
        "\n",
        "Position: (1,1)\n",
        "Velocity: (1,1)\n",
        "Mass: 10\n",
        "\n",
        "moving a couple times\n",
        "\n",
        "Position: (4,4)\n",
        "Velocity: (1,1)\n",
        "Mass: 10\n",
        "\n",
        "now comming back to a stop\n",
        "\n",
        "Position: (4,4)\n",
        "Velocity: (0,0)\n",
        "Mass: 10\n",
        "\n",
        " trying to move again\n",
        "\n"
       ]
      }
     ],
     "prompt_number": 7
    },
    {
     "cell_type": "code",
     "collapsed": false,
     "input": [
      "#accelerate from rest for 5 seconds\n",
      "\n",
      "print E\n",
      "print '\\n accelerating \\n'\n",
      "for i in range(5):\n",
      "    E.accelerate(Vector(['1','2']),1)\n",
      "    E.move(1)\n",
      "    print 'time: ', i\n",
      "    print E, '\\n'\n",
      "print '\\n coming back to a stop\\n'\n",
      "for i in range(5):\n",
      "    E.accelerate(Vector(['-1','-2']),1)\n",
      "    E.move(1)\n",
      "    print 'time: ', i\n",
      "    print E, '\\n'"
     ],
     "language": "python",
     "metadata": {},
     "outputs": [
      {
       "output_type": "stream",
       "stream": "stdout",
       "text": [
        "Position: (1,1)\n",
        "Velocity: (0,0)\n",
        "Mass: 10\n",
        "\n",
        " accelerating \n",
        "\n",
        "time:  0\n",
        "Position: (2,3)\n",
        "Velocity: (1,2)\n",
        "Mass: 10 \n",
        "\n",
        "time:  1\n",
        "Position: (4,7)\n",
        "Velocity: (2,4)\n",
        "Mass: 10 \n",
        "\n",
        "time:  2\n",
        "Position: (7,13)\n",
        "Velocity: (3,6)\n",
        "Mass: 10 \n",
        "\n",
        "time:  3\n",
        "Position: (11,21)\n",
        "Velocity: (4,8)\n",
        "Mass: 10 \n",
        "\n",
        "time:  4\n",
        "Position: (16,31)\n",
        "Velocity: (5,10)\n",
        "Mass: 10 \n",
        "\n",
        "\n",
        " coming back to a stop\n",
        "\n",
        "time:  0\n",
        "Position: (20,39)\n",
        "Velocity: (4,8)\n",
        "Mass: 10 \n",
        "\n",
        "time:  1\n",
        "Position: (23,45)\n",
        "Velocity: (3,6)\n",
        "Mass: 10 \n",
        "\n",
        "time:  2\n",
        "Position: (25,49)\n",
        "Velocity: (2,4)\n",
        "Mass: 10 \n",
        "\n",
        "time:  3\n",
        "Position: (26,51)\n",
        "Velocity: (1,2)\n",
        "Mass: 10 \n",
        "\n",
        "time:  4\n",
        "Position: (26,51)\n",
        "Velocity: (0,0)\n",
        "Mass: 10 \n",
        "\n"
       ]
      }
     ],
     "prompt_number": 17
    },
    {
     "cell_type": "code",
     "collapsed": false,
     "input": [
      "#plotting the above example\n",
      "import numpy as np\n",
      "import matplotlib.pyplot as plt\n",
      "import mpld3\n",
      "mpld3.enable_notebook()\n",
      "\n",
      "#4 sets, 2 blue for accelerating, 2 red for decelerating\n",
      "x = []\n",
      "y = []\n",
      "x2 = []\n",
      "y2 = []\n",
      "#Space ship\n",
      "E = Particle(Vector(['1','1']), Vector(['0','0']), 10)\n",
      "#forward engine\n",
      "max_forward_engine = Vector(['1','2'])\n",
      "#reverse engine half as powerful\n",
      "max_reverse_engine = max_forward_engine*(-.5)\n",
      "\n",
      "#speeding up\n",
      "for i in range(10):\n",
      "    x.append(E.P[0])\n",
      "    y.append(E.P[1])\n",
      "    E.accelerate(max_forward_engine,1)\n",
      "    E.move(1)\n",
      "\n",
      "#slowing down    \n",
      "for i in range(20):\n",
      "    x2.append(E.P[0])\n",
      "    y2.append(E.P[1])\n",
      "    E.accelerate(max_reverse_engine,1)\n",
      "    E.move(1)\n",
      "\n",
      "\n",
      "plt.scatter(x, y, s=8, c='b', alpha=0.5)\n",
      "plt.scatter(x2, y2, s=8, c='r', alpha=0.5)\n",
      "plt.show()\n",
      "    \n",
      "\n"
     ],
     "language": "python",
     "metadata": {},
     "outputs": [
      {
       "html": [
        "\n",
        "\n",
        "<style>\n",
        "\n",
        "</style>\n",
        "\n",
        "<div id=\"fig_el99071398937768401445127660879\"></div>\n",
        "<script>\n",
        "function mpld3_load_lib(url, callback){\n",
        "  var s = document.createElement('script');\n",
        "  s.src = url;\n",
        "  s.async = true;\n",
        "  s.onreadystatechange = s.onload = callback;\n",
        "  s.onerror = function(){console.warn(\"failed to load library \" + url);};\n",
        "  document.getElementsByTagName(\"head\")[0].appendChild(s);\n",
        "}\n",
        "\n",
        "if(typeof(mpld3) !== \"undefined\" && mpld3._mpld3IsLoaded){\n",
        "   // already loaded: just create the figure\n",
        "   !function(mpld3){\n",
        "       \n",
        "       mpld3.draw_figure(\"fig_el99071398937768401445127660879\", {\"axes\": [{\"xlim\": [-20.0, 160.0], \"yscale\": \"linear\", \"axesbg\": \"#FFFFFF\", \"texts\": [], \"zoomable\": true, \"images\": [], \"xdomain\": [-20.0, 160.0], \"ylim\": [-50.0, 350.0], \"paths\": [], \"sharey\": [], \"sharex\": [], \"axesbgalpha\": null, \"axes\": [{\"scale\": \"linear\", \"tickformat\": null, \"grid\": {\"gridOn\": false}, \"fontsize\": 10.0, \"position\": \"bottom\", \"nticks\": 10, \"tickvalues\": null}, {\"scale\": \"linear\", \"tickformat\": null, \"grid\": {\"gridOn\": false}, \"fontsize\": 10.0, \"position\": \"left\", \"nticks\": 9, \"tickvalues\": null}], \"lines\": [], \"markers\": [], \"id\": \"el9907139893776271120\", \"ydomain\": [-50.0, 350.0], \"collections\": [{\"paths\": [[[[0.0, -0.5], [0.13260155, -0.5], [0.25978993539242673, -0.44731684579412084], [0.3535533905932738, -0.3535533905932738], [0.44731684579412084, -0.25978993539242673], [0.5, -0.13260155], [0.5, 0.0], [0.5, 0.13260155], [0.44731684579412084, 0.25978993539242673], [0.3535533905932738, 0.3535533905932738], [0.25978993539242673, 0.44731684579412084], [0.13260155, 0.5], [0.0, 0.5], [-0.13260155, 0.5], [-0.25978993539242673, 0.44731684579412084], [-0.3535533905932738, 0.3535533905932738], [-0.44731684579412084, 0.25978993539242673], [-0.5, 0.13260155], [-0.5, 0.0], [-0.5, -0.13260155], [-0.44731684579412084, -0.25978993539242673], [-0.3535533905932738, -0.3535533905932738], [-0.25978993539242673, -0.44731684579412084], [-0.13260155, -0.5], [0.0, -0.5]], [\"M\", \"C\", \"C\", \"C\", \"C\", \"C\", \"C\", \"C\", \"C\", \"Z\"]]], \"edgecolors\": [\"#000000\"], \"edgewidths\": [1.0], \"offsets\": \"data01\", \"yindex\": 1, \"id\": \"el9907139893775799888\", \"pathtransforms\": [[3.1426968052735447, 0.0, 0.0, 3.1426968052735447, 0.0, 0.0]], \"pathcoordinates\": \"display\", \"offsetcoordinates\": \"data\", \"zorder\": 1, \"xindex\": 0, \"alphas\": [0.5], \"facecolors\": [\"#0000FF\"]}, {\"paths\": [[[[0.0, -0.5], [0.13260155, -0.5], [0.25978993539242673, -0.44731684579412084], [0.3535533905932738, -0.3535533905932738], [0.44731684579412084, -0.25978993539242673], [0.5, -0.13260155], [0.5, 0.0], [0.5, 0.13260155], [0.44731684579412084, 0.25978993539242673], [0.3535533905932738, 0.3535533905932738], [0.25978993539242673, 0.44731684579412084], [0.13260155, 0.5], [0.0, 0.5], [-0.13260155, 0.5], [-0.25978993539242673, 0.44731684579412084], [-0.3535533905932738, 0.3535533905932738], [-0.44731684579412084, 0.25978993539242673], [-0.5, 0.13260155], [-0.5, 0.0], [-0.5, -0.13260155], [-0.44731684579412084, -0.25978993539242673], [-0.3535533905932738, -0.3535533905932738], [-0.25978993539242673, -0.44731684579412084], [-0.13260155, -0.5], [0.0, -0.5]], [\"M\", \"C\", \"C\", \"C\", \"C\", \"C\", \"C\", \"C\", \"C\", \"Z\"]]], \"edgecolors\": [\"#000000\"], \"edgewidths\": [1.0], \"offsets\": \"data02\", \"yindex\": 1, \"id\": \"el9907139893775801808\", \"pathtransforms\": [[3.1426968052735447, 0.0, 0.0, 3.1426968052735447, 0.0, 0.0]], \"pathcoordinates\": \"display\", \"offsetcoordinates\": \"data\", \"zorder\": 1, \"xindex\": 0, \"alphas\": [0.5], \"facecolors\": [\"#FF0000\"]}], \"xscale\": \"linear\", \"bbox\": [0.125, 0.125, 0.77500000000000002, 0.77500000000000002]}], \"height\": 320.0, \"width\": 480.0, \"plugins\": [{\"type\": \"reset\"}, {\"enabled\": false, \"button\": true, \"type\": \"zoom\"}, {\"enabled\": false, \"button\": true, \"type\": \"boxzoom\"}], \"data\": {\"data02\": [[56.0, 111.0], [65.5, 130.0], [74.5, 148.0], [83.0, 165.0], [91.0, 181.0], [98.5, 196.0], [105.5, 210.0], [112.0, 223.0], [118.0, 235.0], [123.5, 246.0], [128.5, 256.0], [133.0, 265.0], [137.0, 273.0], [140.5, 280.0], [143.5, 286.0], [146.0, 291.0], [148.0, 295.0], [149.5, 298.0], [150.5, 300.0], [151.0, 301.0]], \"data01\": [[1.0, 1.0], [2.0, 3.0], [4.0, 7.0], [7.0, 13.0], [11.0, 21.0], [16.0, 31.0], [22.0, 43.0], [29.0, 57.0], [37.0, 73.0], [46.0, 91.0]]}, \"id\": \"el9907139893776840144\"});\n",
        "   }(mpld3);\n",
        "}else if(typeof define === \"function\" && define.amd){\n",
        "   // require.js is available: use it to load d3/mpld3\n",
        "   require.config({paths: {d3: \"https://mpld3.github.io/js/d3.v3.min\"}});\n",
        "   require([\"d3\"], function(d3){\n",
        "      window.d3 = d3;\n",
        "      mpld3_load_lib(\"https://mpld3.github.io/js/mpld3.v0.2.js\", function(){\n",
        "         \n",
        "         mpld3.draw_figure(\"fig_el99071398937768401445127660879\", {\"axes\": [{\"xlim\": [-20.0, 160.0], \"yscale\": \"linear\", \"axesbg\": \"#FFFFFF\", \"texts\": [], \"zoomable\": true, \"images\": [], \"xdomain\": [-20.0, 160.0], \"ylim\": [-50.0, 350.0], \"paths\": [], \"sharey\": [], \"sharex\": [], \"axesbgalpha\": null, \"axes\": [{\"scale\": \"linear\", \"tickformat\": null, \"grid\": {\"gridOn\": false}, \"fontsize\": 10.0, \"position\": \"bottom\", \"nticks\": 10, \"tickvalues\": null}, {\"scale\": \"linear\", \"tickformat\": null, \"grid\": {\"gridOn\": false}, \"fontsize\": 10.0, \"position\": \"left\", \"nticks\": 9, \"tickvalues\": null}], \"lines\": [], \"markers\": [], \"id\": \"el9907139893776271120\", \"ydomain\": [-50.0, 350.0], \"collections\": [{\"paths\": [[[[0.0, -0.5], [0.13260155, -0.5], [0.25978993539242673, -0.44731684579412084], [0.3535533905932738, -0.3535533905932738], [0.44731684579412084, -0.25978993539242673], [0.5, -0.13260155], [0.5, 0.0], [0.5, 0.13260155], [0.44731684579412084, 0.25978993539242673], [0.3535533905932738, 0.3535533905932738], [0.25978993539242673, 0.44731684579412084], [0.13260155, 0.5], [0.0, 0.5], [-0.13260155, 0.5], [-0.25978993539242673, 0.44731684579412084], [-0.3535533905932738, 0.3535533905932738], [-0.44731684579412084, 0.25978993539242673], [-0.5, 0.13260155], [-0.5, 0.0], [-0.5, -0.13260155], [-0.44731684579412084, -0.25978993539242673], [-0.3535533905932738, -0.3535533905932738], [-0.25978993539242673, -0.44731684579412084], [-0.13260155, -0.5], [0.0, -0.5]], [\"M\", \"C\", \"C\", \"C\", \"C\", \"C\", \"C\", \"C\", \"C\", \"Z\"]]], \"edgecolors\": [\"#000000\"], \"edgewidths\": [1.0], \"offsets\": \"data01\", \"yindex\": 1, \"id\": \"el9907139893775799888\", \"pathtransforms\": [[3.1426968052735447, 0.0, 0.0, 3.1426968052735447, 0.0, 0.0]], \"pathcoordinates\": \"display\", \"offsetcoordinates\": \"data\", \"zorder\": 1, \"xindex\": 0, \"alphas\": [0.5], \"facecolors\": [\"#0000FF\"]}, {\"paths\": [[[[0.0, -0.5], [0.13260155, -0.5], [0.25978993539242673, -0.44731684579412084], [0.3535533905932738, -0.3535533905932738], [0.44731684579412084, -0.25978993539242673], [0.5, -0.13260155], [0.5, 0.0], [0.5, 0.13260155], [0.44731684579412084, 0.25978993539242673], [0.3535533905932738, 0.3535533905932738], [0.25978993539242673, 0.44731684579412084], [0.13260155, 0.5], [0.0, 0.5], [-0.13260155, 0.5], [-0.25978993539242673, 0.44731684579412084], [-0.3535533905932738, 0.3535533905932738], [-0.44731684579412084, 0.25978993539242673], [-0.5, 0.13260155], [-0.5, 0.0], [-0.5, -0.13260155], [-0.44731684579412084, -0.25978993539242673], [-0.3535533905932738, -0.3535533905932738], [-0.25978993539242673, -0.44731684579412084], [-0.13260155, -0.5], [0.0, -0.5]], [\"M\", \"C\", \"C\", \"C\", \"C\", \"C\", \"C\", \"C\", \"C\", \"Z\"]]], \"edgecolors\": [\"#000000\"], \"edgewidths\": [1.0], \"offsets\": \"data02\", \"yindex\": 1, \"id\": \"el9907139893775801808\", \"pathtransforms\": [[3.1426968052735447, 0.0, 0.0, 3.1426968052735447, 0.0, 0.0]], \"pathcoordinates\": \"display\", \"offsetcoordinates\": \"data\", \"zorder\": 1, \"xindex\": 0, \"alphas\": [0.5], \"facecolors\": [\"#FF0000\"]}], \"xscale\": \"linear\", \"bbox\": [0.125, 0.125, 0.77500000000000002, 0.77500000000000002]}], \"height\": 320.0, \"width\": 480.0, \"plugins\": [{\"type\": \"reset\"}, {\"enabled\": false, \"button\": true, \"type\": \"zoom\"}, {\"enabled\": false, \"button\": true, \"type\": \"boxzoom\"}], \"data\": {\"data02\": [[56.0, 111.0], [65.5, 130.0], [74.5, 148.0], [83.0, 165.0], [91.0, 181.0], [98.5, 196.0], [105.5, 210.0], [112.0, 223.0], [118.0, 235.0], [123.5, 246.0], [128.5, 256.0], [133.0, 265.0], [137.0, 273.0], [140.5, 280.0], [143.5, 286.0], [146.0, 291.0], [148.0, 295.0], [149.5, 298.0], [150.5, 300.0], [151.0, 301.0]], \"data01\": [[1.0, 1.0], [2.0, 3.0], [4.0, 7.0], [7.0, 13.0], [11.0, 21.0], [16.0, 31.0], [22.0, 43.0], [29.0, 57.0], [37.0, 73.0], [46.0, 91.0]]}, \"id\": \"el9907139893776840144\"});\n",
        "      });\n",
        "    });\n",
        "}else{\n",
        "    // require.js not available: dynamically load d3 & mpld3\n",
        "    mpld3_load_lib(\"https://mpld3.github.io/js/d3.v3.min.js\", function(){\n",
        "         mpld3_load_lib(\"https://mpld3.github.io/js/mpld3.v0.2.js\", function(){\n",
        "                 \n",
        "                 mpld3.draw_figure(\"fig_el99071398937768401445127660879\", {\"axes\": [{\"xlim\": [-20.0, 160.0], \"yscale\": \"linear\", \"axesbg\": \"#FFFFFF\", \"texts\": [], \"zoomable\": true, \"images\": [], \"xdomain\": [-20.0, 160.0], \"ylim\": [-50.0, 350.0], \"paths\": [], \"sharey\": [], \"sharex\": [], \"axesbgalpha\": null, \"axes\": [{\"scale\": \"linear\", \"tickformat\": null, \"grid\": {\"gridOn\": false}, \"fontsize\": 10.0, \"position\": \"bottom\", \"nticks\": 10, \"tickvalues\": null}, {\"scale\": \"linear\", \"tickformat\": null, \"grid\": {\"gridOn\": false}, \"fontsize\": 10.0, \"position\": \"left\", \"nticks\": 9, \"tickvalues\": null}], \"lines\": [], \"markers\": [], \"id\": \"el9907139893776271120\", \"ydomain\": [-50.0, 350.0], \"collections\": [{\"paths\": [[[[0.0, -0.5], [0.13260155, -0.5], [0.25978993539242673, -0.44731684579412084], [0.3535533905932738, -0.3535533905932738], [0.44731684579412084, -0.25978993539242673], [0.5, -0.13260155], [0.5, 0.0], [0.5, 0.13260155], [0.44731684579412084, 0.25978993539242673], [0.3535533905932738, 0.3535533905932738], [0.25978993539242673, 0.44731684579412084], [0.13260155, 0.5], [0.0, 0.5], [-0.13260155, 0.5], [-0.25978993539242673, 0.44731684579412084], [-0.3535533905932738, 0.3535533905932738], [-0.44731684579412084, 0.25978993539242673], [-0.5, 0.13260155], [-0.5, 0.0], [-0.5, -0.13260155], [-0.44731684579412084, -0.25978993539242673], [-0.3535533905932738, -0.3535533905932738], [-0.25978993539242673, -0.44731684579412084], [-0.13260155, -0.5], [0.0, -0.5]], [\"M\", \"C\", \"C\", \"C\", \"C\", \"C\", \"C\", \"C\", \"C\", \"Z\"]]], \"edgecolors\": [\"#000000\"], \"edgewidths\": [1.0], \"offsets\": \"data01\", \"yindex\": 1, \"id\": \"el9907139893775799888\", \"pathtransforms\": [[3.1426968052735447, 0.0, 0.0, 3.1426968052735447, 0.0, 0.0]], \"pathcoordinates\": \"display\", \"offsetcoordinates\": \"data\", \"zorder\": 1, \"xindex\": 0, \"alphas\": [0.5], \"facecolors\": [\"#0000FF\"]}, {\"paths\": [[[[0.0, -0.5], [0.13260155, -0.5], [0.25978993539242673, -0.44731684579412084], [0.3535533905932738, -0.3535533905932738], [0.44731684579412084, -0.25978993539242673], [0.5, -0.13260155], [0.5, 0.0], [0.5, 0.13260155], [0.44731684579412084, 0.25978993539242673], [0.3535533905932738, 0.3535533905932738], [0.25978993539242673, 0.44731684579412084], [0.13260155, 0.5], [0.0, 0.5], [-0.13260155, 0.5], [-0.25978993539242673, 0.44731684579412084], [-0.3535533905932738, 0.3535533905932738], [-0.44731684579412084, 0.25978993539242673], [-0.5, 0.13260155], [-0.5, 0.0], [-0.5, -0.13260155], [-0.44731684579412084, -0.25978993539242673], [-0.3535533905932738, -0.3535533905932738], [-0.25978993539242673, -0.44731684579412084], [-0.13260155, -0.5], [0.0, -0.5]], [\"M\", \"C\", \"C\", \"C\", \"C\", \"C\", \"C\", \"C\", \"C\", \"Z\"]]], \"edgecolors\": [\"#000000\"], \"edgewidths\": [1.0], \"offsets\": \"data02\", \"yindex\": 1, \"id\": \"el9907139893775801808\", \"pathtransforms\": [[3.1426968052735447, 0.0, 0.0, 3.1426968052735447, 0.0, 0.0]], \"pathcoordinates\": \"display\", \"offsetcoordinates\": \"data\", \"zorder\": 1, \"xindex\": 0, \"alphas\": [0.5], \"facecolors\": [\"#FF0000\"]}], \"xscale\": \"linear\", \"bbox\": [0.125, 0.125, 0.77500000000000002, 0.77500000000000002]}], \"height\": 320.0, \"width\": 480.0, \"plugins\": [{\"type\": \"reset\"}, {\"enabled\": false, \"button\": true, \"type\": \"zoom\"}, {\"enabled\": false, \"button\": true, \"type\": \"boxzoom\"}], \"data\": {\"data02\": [[56.0, 111.0], [65.5, 130.0], [74.5, 148.0], [83.0, 165.0], [91.0, 181.0], [98.5, 196.0], [105.5, 210.0], [112.0, 223.0], [118.0, 235.0], [123.5, 246.0], [128.5, 256.0], [133.0, 265.0], [137.0, 273.0], [140.5, 280.0], [143.5, 286.0], [146.0, 291.0], [148.0, 295.0], [149.5, 298.0], [150.5, 300.0], [151.0, 301.0]], \"data01\": [[1.0, 1.0], [2.0, 3.0], [4.0, 7.0], [7.0, 13.0], [11.0, 21.0], [16.0, 31.0], [22.0, 43.0], [29.0, 57.0], [37.0, 73.0], [46.0, 91.0]]}, \"id\": \"el9907139893776840144\"});\n",
        "            })\n",
        "         });\n",
        "}\n",
        "</script>"
       ],
       "metadata": {},
       "output_type": "display_data",
       "png": "[encoded data removed]",
       "text": [
        "<matplotlib.figure.Figure at 0x7f3b8edff5d0>"
       ]
      }
     ],
     "prompt_number": 3
    },
    {
     "cell_type": "code",
     "collapsed": false,
     "input": [
      "# plotting 3d\n",
      "import numpy as np\n",
      "from mpl_toolkits.mplot3d import Axes3D\n",
      "import matplotlib.pyplot as plt\n",
      "\n",
      "\n",
      "fig = plt.figure()\n",
      "ax = fig.add_subplot(111, projection='3d')\n",
      "ax.set_xlabel('X Label')\n",
      "ax.set_ylabel('Y Label')\n",
      "ax.set_zlabel('Time')\n",
      "\n",
      "#Space ship\n",
      "E = Particle(Vector(['1','1']), Vector(['0','0']), 10)\n",
      "#forward engine\n",
      "max_forward_engine = Vector(['1','2'])\n",
      "#reverse engine half as powerful\n",
      "max_reverse_engine = max_forward_engine*(-.5)\n",
      "\n",
      "#speeding up\n",
      "for i in range(10):\n",
      "    ax.scatter(E.P[0], E.P[1], i, c='r', marker='o')\n",
      "    E.accelerate(max_forward_engine,1)\n",
      "    E.move(1)\n",
      "    \n",
      "\n",
      "#slowing down    \n",
      "for i in range(10,30):\n",
      "    ax.scatter(E.P[0], E.P[1], i, c='b', marker='o')\n",
      "    E.accelerate(max_reverse_engine,1)\n",
      "    E.move(1)\n",
      "\n",
      "plt.show()\n"
     ],
     "language": "python",
     "metadata": {},
     "outputs": [
      {
       "metadata": {},
       "output_type": "display_data",
       "text": [
        "<matplotlib.figure.Figure at 0x7f3b8ede3a10>"
       ]
      }
     ],
     "prompt_number": 2
    },
    {
     "cell_type": "code",
     "collapsed": false,
     "input": [],
     "language": "python",
     "metadata": {},
     "outputs": []
    }
   ],
   "metadata": {}
  }
 ]
}