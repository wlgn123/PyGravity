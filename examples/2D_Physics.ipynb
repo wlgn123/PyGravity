{
 "metadata": {
  "name": ""
 },
 "nbformat": 3,
 "nbformat_minor": 0,
 "worksheets": [
  {
   "cells": [
    {
     "cell_type": "code",
     "collapsed": false,
     "input": [
      "import numpy as np\n",
      "import matplotlib.pyplot as plt\n",
      "import mpld3\n",
      "mpld3.enable_notebook()\n",
      "from libs import Physics, Particle, Vector, round_sig\n",
      "\n",
      "base = Physics()\n",
      "base.dimension = 3\n",
      "\n",
      "base.read_file('example_data.csv')\n",
      "base.timestep = 60\n",
      "base.prec = 100\n",
      "\n",
      "total_mass = 0\n",
      "for item in base.objects:\n",
      "    total_mass += item.m[0]\n",
      "am = round_sig(100*base.objects[0].m[0]/total_mass, 1)\n",
      "bm = round_sig(100*base.objects[1].m[0]/total_mass,1)\n",
      "cm = round_sig(100*base.objects[2].m[0]/total_mass,1)\n",
      "dm = round_sig(100*base.objects[3].m[0]/total_mass,1)\n",
      "print am, bm, cm\n",
      "ax = []\n",
      "ay = []\n",
      "bx = []\n",
      "by = []\n",
      "cx = []\n",
      "cy = []\n",
      "dx = []\n",
      "dy = []\n",
      "for i in range(1):\n",
      "    if i % 1 == 0:\n",
      "        print base.objects[1].round(2)\n",
      "    ax.append(base.objects[0].P[0])\n",
      "    ay.append(base.objects[0].P[1])\n",
      "    bx.append(base.objects[1].P[0])\n",
      "    by.append(base.objects[1].P[1])\n",
      "    cx.append(base.objects[2].P[0])\n",
      "    cy.append(base.objects[2].P[1])\n",
      "    dx.append(base.objects[3].P[0])\n",
      "    dy.append(base.objects[3].P[1])\n",
      "\n",
      "    base.step_all()\n",
      "    \n",
      "print 'Time: ', base.timestep*base.time\n",
      "plt.scatter(ax, ay, s=am, c='b', alpha=0.5)\n",
      "plt.scatter(bx, by, s=bm, c='r', alpha=0.5)\n",
      "plt.scatter(cx, cy, s=cm, c='g', alpha=0.5)\n",
      "plt.scatter(dx, dy, s=dm, c='y', alpha=0.5)\n",
      "plt.show()"
     ],
     "language": "python",
     "metadata": {},
     "outputs": [],
     "prompt_number": 4
    },
    {
     "cell_type": "code",
     "collapsed": false,
     "input": [],
     "language": "python",
     "metadata": {},
     "outputs": []
    }
   ],
   "metadata": {}
  }
 ]
}