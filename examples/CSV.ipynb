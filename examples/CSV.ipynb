{
 "metadata": {
  "name": "",
  "signature": "sha256:297cf1289069076753c04c9890af04ab632a822f2967af76e36d0a04389a2db6"
 },
 "nbformat": 3,
 "nbformat_minor": 0,
 "worksheets": [
  {
   "cells": [
    {
     "cell_type": "code",
     "collapsed": false,
     "input": [
      "import csv\n",
      "from PyGravity import *\n",
      "base = PyGravity()\n",
      "base.time_interval = 60*60"
     ],
     "language": "python",
     "metadata": {},
     "outputs": [],
     "prompt_number": 6
    },
    {
     "cell_type": "code",
     "collapsed": false,
     "input": [
      "#load paricles from CSV file\n",
      "base.read_file('./example_data.csv')\n",
      "for item in base.particle_list:\n",
      "    print item.round(4)\n",
      "\n"
     ],
     "language": "python",
     "metadata": {},
     "outputs": [
      {
       "output_type": "stream",
       "stream": "stdout",
       "text": [
        "a: Position: (100.0,0,0), Velocity: (0,-0.09,0), Mass: (15500000000.0)\n",
        "b: Position: (-100.0,0,0), Velocity: (0,0.09,0), Mass: (15500000000.0)\n",
        "c: Position: (0,-100.0,0), Velocity: (-0.09,0,0), Mass: (15500000000.0)\n",
        "d: Position: (0,100.0,0), Velocity: (0.09,0,0), Mass: (15500000000.0)\n"
       ]
      }
     ],
     "prompt_number": 7
    },
    {
     "cell_type": "code",
     "collapsed": false,
     "input": [
      "for i in range(20):\n",
      "    base.step_all()\n",
      "    if i % 5 == 0:\n",
      "        print (base.currant_time*base.time_interval)/60, 'minutes'\n",
      "        for item in base.particle_list:\n",
      "            print item.round(2)"
     ],
     "language": "python",
     "metadata": {},
     "outputs": [
      {
       "output_type": "stream",
       "stream": "stdout",
       "text": [
        "240 minutes\n",
        "a: Position: (-5000.0,-1300.0,0), Velocity: (-0.35,-0.089,0), Mass: (16000000000.0)\n",
        "b: Position: (5000.0,1300.0,0), Velocity: (0.35,0.089,0), Mass: (16000000000.0)\n",
        "c: Position: (-1300.0,5000.0,0), Velocity: (-0.089,0.35,0), Mass: (16000000000.0)\n",
        "d: Position: (1300.0,-5000.0,0), Velocity: (0.089,-0.35,0), Mass: (16000000000.0)\n",
        "540"
       ]
      },
      {
       "output_type": "stream",
       "stream": "stdout",
       "text": [
        " minutes\n",
        "a: Position: (-11000.0,-2900.0,0), Velocity: (-0.35,-0.089,0), Mass: (16000000000.0)\n",
        "b: Position: (11000.0,2900.0,0), Velocity: (0.35,0.089,0), Mass: (16000000000.0)\n",
        "c: Position: (-2900.0,11000.0,0), Velocity: (-0.089,0.35,0), Mass: (16000000000.0)\n",
        "d: Position: (2900.0,-11000.0,0), Velocity: (0.089,-0.35,0), Mass: (16000000000.0)\n",
        "840"
       ]
      },
      {
       "output_type": "stream",
       "stream": "stdout",
       "text": [
        " minutes\n",
        "a: Position: (-18000.0,-4500.0,0), Velocity: (-0.35,-0.089,0), Mass: (16000000000.0)\n",
        "b: Position: (18000.0,4500.0,0), Velocity: (0.35,0.089,0), Mass: (16000000000.0)\n",
        "c: Position: (-4500.0,18000.0,0), Velocity: (-0.089,0.35,0), Mass: (16000000000.0)\n",
        "d: Position: (4500.0,-18000.0,0), Velocity: (0.089,-0.35,0), Mass: (16000000000.0)\n",
        "1140"
       ]
      },
      {
       "output_type": "stream",
       "stream": "stdout",
       "text": [
        " minutes\n",
        "a: Position: (-24000.0,-6100.0,0), Velocity: (-0.35,-0.089,0), Mass: (16000000000.0)\n",
        "b: Position: (24000.0,6100.0,0), Velocity: (0.35,0.089,0), Mass: (16000000000.0)\n",
        "c: Position: (-6100.0,24000.0,0), Velocity: (-0.089,0.35,0), Mass: (16000000000.0)\n",
        "d: Position: (6100.0,-24000.0,0), Velocity: (0.089,-0.35,0), Mass: (16000000000.0)\n"
       ]
      }
     ],
     "prompt_number": 11
    },
    {
     "cell_type": "code",
     "collapsed": false,
     "input": [],
     "language": "python",
     "metadata": {},
     "outputs": [],
     "prompt_number": 3
    },
    {
     "cell_type": "code",
     "collapsed": false,
     "input": [],
     "language": "python",
     "metadata": {},
     "outputs": []
    }
   ],
   "metadata": {}
  }
 ]
}