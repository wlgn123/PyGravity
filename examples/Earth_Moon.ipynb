{
 "metadata": {
  "name": "",
  "signature": "sha256:6f545f53f928018904550e606d621e9695fb4b9b433351c866f21f35c27ceb4b"
 },
 "nbformat": 3,
 "nbformat_minor": 0,
 "worksheets": [
  {
   "cells": [
    {
     "cell_type": "code",
     "collapsed": false,
     "input": [
      "import matplotlib as mpl\n",
      "from mpl_toolkits.mplot3d import Axes3D\n",
      "import numpy as np\n",
      "import matplotlib.pyplot as plt\n",
      "\n",
      "import PyGravity\n",
      "\n",
      "#PyGravity stuff\n",
      "base = PyGravity.PyGravity()    # start by making base instance \n",
      "base.set_dimension(3)           # not needed for dim 3, but here it is\n",
      "#base.read_file('earth_moon.csv')\n",
      "base.read_file('earth_moon.csv')\n",
      "\n",
      "base.set_time_interval(1)\n",
      "base.set_fast(True)\n",
      "\n",
      "#Plotting stuff\n",
      "\n",
      "mpl.rcParams['legend.fontsize'] = 10\n",
      "\n",
      "fig = plt.figure()\n",
      "ax = fig.gca(projection='3d')\n",
      "Ax = []\n",
      "Ay = []\n",
      "Az = []\n",
      "Bx = []\n",
      "By = []\n",
      "Bz = []\n",
      "\n",
      "one_day = 60*60*24\n",
      "print PyGravity.Physics.Grav_Accel(base.particle_list[0],base.particle_list[1] ).round(4)\n",
      "for i in range(one_day * 90 ):\n",
      "\tif i % one_day == 0:\n",
      "\t\t#print base.particle_list[0].round(10),i\n",
      "\t\tprint base.particle_list[1].P.round(2),i/one_day\n",
      "\tAx.append(float(base.particle_list[0].P[0]))\n",
      "\tAy.append(float(base.particle_list[0].P[1]))\n",
      "\tAz.append(float(base.particle_list[0].P[2]))\n",
      "\tBx.append(float(base.particle_list[1].P[0]))\n",
      "\tBy.append(float(base.particle_list[1].P[1]))\n",
      "\tBz.append(float(base.particle_list[1].P[2]))\n",
      "\n",
      "\t\n",
      "\n",
      "\tif i % 500 == 0:\n",
      "\t\tif PyGravity.Physics.escaping(base.particle_list) != []:\n",
      "\t\t\tprint 'escaping',PyGravity.Physics.escaping(base.particle_list)\n",
      "\t\t\tbreak\n",
      "\n",
      "\n",
      "\tbase.step_all_verlet()\n",
      "\t#base.step_all()\n",
      "\n",
      "print 'Time: ', (base.currant_time)/(60*60), 'hrs'\n",
      "\n",
      "#ax.set_xlim(0, 2.5e1)\n",
      "#ax.set_ylim(-2.0e1, 2.0e1)\n",
      "#ax.set_zlim(-2.0e1, 2.0e1)\n",
      "\n",
      "ax.plot(Ax, Ay, Az, label='Obj A')\n",
      "ax.plot(Bx, By, Bz, label='Obj B')\n",
      "ax.legend()\n",
      "#plt.ylim(-2.0e5, 2.0e5)\n",
      "#plt.xlim(-2.0e5, 2.0e5)\n",
      "\n",
      "plt.show()\n",
      "\n"
     ],
     "language": "python",
     "metadata": {},
     "outputs": [
      {
       "output_type": "stream",
       "stream": "stdout",
       "text": [
        "(4.672e-23,0.0,0.0)\n",
        "(1000000000.0,0.0,0.0)"
       ]
      },
      {
       "output_type": "stream",
       "stream": "stdout",
       "text": [
        " 0\n",
        "(1000000000.0,5000000.0,0.0)"
       ]
      },
      {
       "output_type": "stream",
       "stream": "stdout",
       "text": [
        " 1\n",
        "(1000000000.0,9900000.0,0.0)"
       ]
      },
      {
       "output_type": "stream",
       "stream": "stdout",
       "text": [
        " 2\n",
        "(990000000.0,15000000.0,0.0)"
       ]
      },
      {
       "output_type": "stream",
       "stream": "stdout",
       "text": [
        " 3\n",
        "(980000000.0,20000000.0,0.0)"
       ]
      },
      {
       "output_type": "stream",
       "stream": "stdout",
       "text": [
        " 4\n",
        "(970000000.0,25000000.0,0.0)"
       ]
      },
      {
       "output_type": "stream",
       "stream": "stdout",
       "text": [
        " 5\n",
        "(950000000.0,29000000.0,0.0)"
       ]
      },
      {
       "output_type": "stream",
       "stream": "stdout",
       "text": [
        " 6\n",
        "(940000000.0,34000000.0,0.0)"
       ]
      }
     ]
    },
    {
     "cell_type": "code",
     "collapsed": false,
     "input": [],
     "language": "python",
     "metadata": {},
     "outputs": [],
     "prompt_number": 3
    },
    {
     "cell_type": "code",
     "collapsed": false,
     "input": [],
     "language": "python",
     "metadata": {},
     "outputs": []
    }
   ],
   "metadata": {}
  }
 ]
}