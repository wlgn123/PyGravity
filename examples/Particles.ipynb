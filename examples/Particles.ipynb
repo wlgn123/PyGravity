{
 "metadata": {
  "name": "",
  "signature": "sha256:cd73bbcadaa766dcb85f12527a3479ef62bc3e8e0ee85ecce8f96ef1308312e7"
 },
 "nbformat": 3,
 "nbformat_minor": 0,
 "worksheets": [
  {
   "cells": [
    {
     "cell_type": "code",
     "collapsed": false,
     "input": [
      "from PyGravity import *"
     ],
     "language": "python",
     "metadata": {},
     "outputs": [],
     "prompt_number": 1
    },
    {
     "cell_type": "code",
     "collapsed": false,
     "input": [
      "# make new particle at position 1,1 with no velocity and mass 10\n",
      "A = Particle('name',Vector(['1','1']), Vector(['0','0']), 10)\n",
      "print A\n",
      "print '\\nmoving A\\n'\n",
      "A.move(1)\n",
      "print A\n"
     ],
     "language": "python",
     "metadata": {},
     "outputs": [
      {
       "output_type": "stream",
       "stream": "stdout",
       "text": [
        "name: Position: (1,1), Velocity: (0,0), Mass: 10\n",
        "\n",
        "moving A\n",
        "\n",
        "name: Position: (1,1), Velocity: (0,0), Mass: 10\n"
       ]
      }
     ],
     "prompt_number": 3
    },
    {
     "cell_type": "code",
     "collapsed": false,
     "input": [
      "#Make a particle with non-zero velocity and move it\n",
      "B = Particle('B',Vector(['1','1']), Vector(['1','2']), 10)\n",
      "print B\n",
      "print '\\nmoving b for 1 second\\n'\n",
      "B.move(1)\n",
      "print B\n",
      "print '\\n moving B for 5 seconds\\n'\n",
      "B.move(5)\n",
      "print B"
     ],
     "language": "python",
     "metadata": {},
     "outputs": [
      {
       "output_type": "stream",
       "stream": "stdout",
       "text": [
        "B: Position: (1,1), Velocity: (1,2), Mass: 10\n",
        "\n",
        "moving b for 1 second\n",
        "\n",
        "B: Position: (2,3), Velocity: (1,2), Mass: 10\n",
        "\n",
        " moving B for 5 seconds\n",
        "\n",
        "B: Position: (7,13), Velocity: (1,2), Mass: 10\n"
       ]
      }
     ],
     "prompt_number": 4
    },
    {
     "cell_type": "code",
     "collapsed": false,
     "input": [
      "#Particle that starts stationary, but is then accelerated\n",
      "C = Particle('C',Vector(['1','1']), Vector(['0','0']), 10)\n",
      "print C\n",
      "print '\\naccelerating by 1,1 for 1 second\\n'\n",
      "C.accelerate(Vector(['1','1']), 1)\n",
      "print C\n",
      "print '\\nmoving a couple times\\n'\n",
      "C.move(3)\n",
      "print C\n",
      "print '\\nnow comming back to a stop\\n'\n",
      "C.accelerate(Vector(['-1','-1']), 1)\n",
      "print C\n",
      "print '\\n trying to move again\\n'\n",
      "for i in range(3):\n",
      "    C.move(1)\n",
      "print C\n"
     ],
     "language": "python",
     "metadata": {},
     "outputs": [
      {
       "output_type": "stream",
       "stream": "stdout",
       "text": [
        "C: Position: (1,1), Velocity: (0,0), Mass: 10\n",
        "\n",
        "accelerating by 1,1 for 1 second\n",
        "\n",
        "C: Position: (1,1), Velocity: (1,1), Mass: 10\n",
        "\n",
        "moving a couple times\n",
        "\n",
        "C: Position: (4,4), Velocity: (1,1), Mass: 10\n",
        "\n",
        "now comming back to a stop\n",
        "\n",
        "C: Position: (4,4), Velocity: (0,0), Mass: 10\n",
        "\n",
        " trying to move again\n",
        "\n",
        "C: Position: (4,4), Velocity: (0,0), Mass: 10\n"
       ]
      }
     ],
     "prompt_number": 6
    },
    {
     "cell_type": "code",
     "collapsed": false,
     "input": [
      "#accelerate from rest for 5 seconds\n",
      "E = Particle('E', Vector(['0','0']), Vector(['0','0']), Vector(['4']))\n",
      "print E\n",
      "print '\\n accelerating \\n'\n",
      "for i in range(5):\n",
      "    E.accelerate(Vector(['1','2']),1)\n",
      "    E.move(1)\n",
      "    print 'time: ', i\n",
      "    print E, '\\n'\n",
      "print '\\n coming back to a stop\\n'\n",
      "for i in range(5):\n",
      "    E.accelerate(Vector(['-1','-2']),1)\n",
      "    E.move(1)\n",
      "    print 'time: ', i\n",
      "    print E, '\\n'"
     ],
     "language": "python",
     "metadata": {},
     "outputs": [
      {
       "output_type": "stream",
       "stream": "stdout",
       "text": [
        "E: Position: (0,0), Velocity: (0,0), Mass: (4)\n",
        "\n",
        " accelerating \n",
        "\n",
        "time:  0\n",
        "E: Position: (1,2), Velocity: (1,2), Mass: (4) \n",
        "\n",
        "time:  1\n",
        "E: Position: (3,6), Velocity: (2,4), Mass: (4) \n",
        "\n",
        "time:  2\n",
        "E: Position: (6,12), Velocity: (3,6), Mass: (4) \n",
        "\n",
        "time:  3\n",
        "E: Position: (10,20), Velocity: (4,8), Mass: (4) \n",
        "\n",
        "time:  4\n",
        "E: Position: (15,30), Velocity: (5,10), Mass: (4) \n",
        "\n",
        "\n",
        " coming back to a stop\n",
        "\n",
        "time:  0\n",
        "E: Position: (19,38), Velocity: (4,8), Mass: (4) \n",
        "\n",
        "time:  1\n",
        "E: Position: (22,44), Velocity: (3,6), Mass: (4) \n",
        "\n",
        "time:  2\n",
        "E: Position: (24,48), Velocity: (2,4), Mass: (4) \n",
        "\n",
        "time:  3\n",
        "E: Position: (25,50), Velocity: (1,2), Mass: (4) \n",
        "\n",
        "time:  4\n",
        "E: Position: (25,50), Velocity: (0,0), Mass: (4) \n",
        "\n"
       ]
      }
     ],
     "prompt_number": 8
    },
    {
     "cell_type": "code",
     "collapsed": false,
     "input": [
      "#plotting the above example\n",
      "import numpy as np\n",
      "import matplotlib.pyplot as plt\n",
      "import mpld3\n",
      "mpld3.enable_notebook()\n",
      "\n",
      "#4 sets, 2 blue for accelerating, 2 red for decelerating\n",
      "x = []\n",
      "y = []\n",
      "x2 = []\n",
      "y2 = []\n",
      "#Space ship\n",
      "E = Particle(Vector(['1','1']), Vector(['0','0']), 10)\n",
      "#forward engine\n",
      "max_forward_engine = Vector(['1','2'])\n",
      "#reverse engine half as powerful\n",
      "max_reverse_engine = max_forward_engine*(-.5)\n",
      "\n",
      "#speeding up\n",
      "for i in range(10):\n",
      "    x.append(E.P[0])\n",
      "    y.append(E.P[1])\n",
      "    E.accelerate(max_forward_engine,1)\n",
      "    E.move(1)\n",
      "\n",
      "#slowing down    \n",
      "for i in range(20):\n",
      "    x2.append(E.P[0])\n",
      "    y2.append(E.P[1])\n",
      "    E.accelerate(max_reverse_engine,1)\n",
      "    E.move(1)\n",
      "\n",
      "\n",
      "plt.scatter(x, y, s=8, c='b', alpha=0.5)\n",
      "plt.scatter(x2, y2, s=8, c='r', alpha=0.5)\n",
      "plt.show()\n",
      "    \n",
      "\n"
     ],
     "language": "python",
     "metadata": {},
     "outputs": [
      {
       "ename": "ImportError",
       "evalue": "No module named mpld3",
       "output_type": "pyerr",
       "traceback": [
        "\u001b[0;31m---------------------------------------------------------------------------\u001b[0m\n\u001b[0;31mImportError\u001b[0m                               Traceback (most recent call last)",
        "\u001b[0;32m<ipython-input-9-a783d173e55d>\u001b[0m in \u001b[0;36m<module>\u001b[0;34m()\u001b[0m\n\u001b[1;32m      2\u001b[0m \u001b[0;32mimport\u001b[0m \u001b[0mnumpy\u001b[0m \u001b[0;32mas\u001b[0m \u001b[0mnp\u001b[0m\u001b[0;34m\u001b[0m\u001b[0m\n\u001b[1;32m      3\u001b[0m \u001b[0;32mimport\u001b[0m \u001b[0mmatplotlib\u001b[0m\u001b[0;34m.\u001b[0m\u001b[0mpyplot\u001b[0m \u001b[0;32mas\u001b[0m \u001b[0mplt\u001b[0m\u001b[0;34m\u001b[0m\u001b[0m\n\u001b[0;32m----> 4\u001b[0;31m \u001b[0;32mimport\u001b[0m \u001b[0mmpld3\u001b[0m\u001b[0;34m\u001b[0m\u001b[0m\n\u001b[0m\u001b[1;32m      5\u001b[0m \u001b[0mmpld3\u001b[0m\u001b[0;34m.\u001b[0m\u001b[0menable_notebook\u001b[0m\u001b[0;34m(\u001b[0m\u001b[0;34m)\u001b[0m\u001b[0;34m\u001b[0m\u001b[0m\n\u001b[1;32m      6\u001b[0m \u001b[0;34m\u001b[0m\u001b[0m\n",
        "\u001b[0;31mImportError\u001b[0m: No module named mpld3"
       ]
      }
     ],
     "prompt_number": 9
    },
    {
     "cell_type": "code",
     "collapsed": false,
     "input": [
      "%matplotlib inline\n",
      "# plotting 3d\n",
      "import numpy as np\n",
      "from mpl_toolkits.mplot3d import Axes3D\n",
      "import matplotlib.pyplot as plt\n",
      "\n",
      "\n",
      "fig = plt.figure()\n",
      "ax = fig.add_subplot(111, projection='3d')\n",
      "ax.set_xlabel('X Label')\n",
      "ax.set_ylabel('Y Label')\n",
      "ax.set_zlabel('Time')\n",
      "\n",
      "#Space ship\n",
      "E = Particle('space-ship',Vector(['1','1']), Vector(['0','0']), 10)\n",
      "#forward engine\n",
      "max_forward_engine = Vector(['1','2'])\n",
      "#reverse engine half as powerful\n",
      "max_reverse_engine = max_forward_engine*(-.5)\n",
      "\n",
      "#speeding up\n",
      "for i in range(10):\n",
      "    ax.scatter(float(E.P[0]), float(E.P[1]), i, c='r', marker='o')\n",
      "    E.accelerate(max_forward_engine,1)\n",
      "    E.move(1)\n",
      "    \n",
      "\n",
      "#slowing down    \n",
      "for i in range(10,30):\n",
      "    ax.scatter(float(E.P[0]), float(E.P[1]), i, c='b', marker='o')\n",
      "    E.accelerate(max_reverse_engine,1)\n",
      "    E.move(1)\n",
      "\n",
      "plt.show()\n"
     ],
     "language": "python",
     "metadata": {},
     "outputs": [
      {
       "metadata": {},
       "output_type": "display_data",
       "png": "[encoded data removed]",
       "text": [
        "<matplotlib.figure.Figure at 0x7fa5ea33dc90>"
       ]
      }
     ],
     "prompt_number": 2
    },
    {
     "cell_type": "code",
     "collapsed": false,
     "input": [],
     "language": "python",
     "metadata": {},
     "outputs": []
    }
   ],
   "metadata": {}
  }
 ]
}