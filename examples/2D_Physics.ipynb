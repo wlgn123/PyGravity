{
 "metadata": {
  "name": "",
  "signature": "sha256:c090bb30f902b8a8ebc9e6bfc0cd67d4c36134c5a9b01a1a58178bb6e85544e1"
 },
 "nbformat": 3,
 "nbformat_minor": 0,
 "worksheets": [
  {
   "cells": [
    {
     "cell_type": "code",
     "collapsed": true,
     "input": [
      "import numpy as np\n",
      "import matplotlib.pyplot as plt\n",
      "\n",
      "import PyGravity\n",
      "\n",
      "base = PyGravity.PyGravity()    # start by making base instance \n",
      "base.set_dimension(3)           # not needed for dim 3, but here it is\n",
      "\n",
      "\n",
      "base.read_file('example_data.csv')\n",
      "\n",
      "base.set_time_interval(10)\n",
      "base.set_fast(False)\n",
      "\n",
      "ax = []\n",
      "ay = []\n",
      "bx = []\n",
      "by = []\n",
      "cx = []\n",
      "cy = []\n",
      "dx = []\n",
      "dy = []\n",
      "for i in range(100000):\n",
      "    if i % 1000 == 0:\n",
      "        print base.particle_list[0].round(2),i\n",
      "        print base.particle_list[1].round(2),i\n",
      "        print base.particle_list[2].round(2),i\n",
      "        print base.particle_list[3].round(2),i\n",
      "        ax.append(base.particle_list[0].P[0])\n",
      "        ay.append(base.particle_list[0].P[1])\n",
      "        bx.append(base.particle_list[1].P[0])\n",
      "        by.append(base.particle_list[1].P[1])\n",
      "        cx.append(base.particle_list[2].P[0])\n",
      "        cy.append(base.particle_list[2].P[1])\n",
      "        dx.append(base.particle_list[3].P[0])\n",
      "        dy.append(base.particle_list[3].P[1])\n",
      "        \n",
      "    if PyGravity.Physics.escaping(base.particle_list) != []:\n",
      "        print PyGravity.Physics.escaping(base.particle_list)\n",
      "        break\n",
      "        \n",
      "    base.step_all_verlet()\n",
      "    \n",
      "print 'Time: ', (base.currant_time), 'mins'\n",
      "plt.scatter(ax, ay, s=10, c='b', alpha=0.5)\n",
      "plt.scatter(bx, by, s=10, c='r', alpha=0.5)\n",
      "plt.scatter(cx, cy, s=10, c='g', alpha=0.5)\n",
      "plt.scatter(dx, dy, s=10, c='y', alpha=0.5)\n",
      "plt.show()\n"
     ],
     "language": "python",
     "metadata": {},
     "outputs": [
      {
       "output_type": "stream",
       "stream": "stdout",
       "text": [
        "a: Position: (100000000.0,0.0,0.0), Velocity: (0.0,-18.0,0.0), Mass: (1.6e+20) 0\n",
        "b: Position: (-100000000.0,0.0,0.0), Velocity: (0.0,18.0,0.0), Mass: (1.6e+20) 0\n",
        "c: Position: (0.0,-100000000.0,0.0), Velocity: (-18.0,0.0,0.0), Mass: (1.6e+20) 0\n",
        "d: Position: (0.0,100000000.0,0.0), Velocity: (18.0,0.0,0.0), Mass: (1.6e+20) 0\n",
        "a: Position: (100000000.0,-180000.0,0.0), Velocity: (-0.0099,-18.0,0.0), Mass: (1.6e+20)"
       ]
      },
      {
       "output_type": "stream",
       "stream": "stdout",
       "text": [
        " 1000\n",
        "b: Position: (-100000000.0,180000.0,0.0), Velocity: (0.0099,18.0,0.0), Mass: (1.6e+20) 1000\n",
        "c: Position: (-180000.0,-100000000.0,0.0), Velocity: (-18.0,0.0099,0.0), Mass: (1.6e+20) 1000\n",
        "d: Position: (180000.0,100000000.0,0.0), Velocity: (18.0,-0.0099,0.0), Mass: (1.6e+20) 1000\n",
        "a: Position: (100000000.0,-350000.0,0.0), Velocity: (-0.02,-18.0,0.0), Mass: (1.6e+20)"
       ]
      },
      {
       "output_type": "stream",
       "stream": "stdout",
       "text": [
        " 2000\n",
        "b: Position: (-100000000.0,350000.0,0.0), Velocity: (0.02,18.0,0.0), Mass: (1.6e+20) 2000\n",
        "c: Position: (-350000.0,-100000000.0,0.0), Velocity: (-18.0,0.02,0.0), Mass: (1.6e+20) 2000\n",
        "d: Position: (350000.0,100000000.0,0.0), Velocity: (18.0,-0.02,0.0), Mass: (1.6e+20) 2000\n",
        "a: Position: (100000000.0,-530000.0,0.0), Velocity: (-0.03,-18.0,0.0), Mass: (1.6e+20)"
       ]
      },
      {
       "output_type": "stream",
       "stream": "stdout",
       "text": [
        " 3000\n",
        "b: Position: (-100000000.0,530000.0,0.0), Velocity: (0.03,18.0,0.0), Mass: (1.6e+20) 3000\n",
        "c: Position: (-530000.0,-100000000.0,0.0), Velocity: (-18.0,0.03,0.0), Mass: (1.6e+20) 3000\n",
        "d: Position: (530000.0,100000000.0,0.0), Velocity: (18.0,-0.03,0.0), Mass: (1.6e+20) 3000\n",
        "a: Position: (100000000.0,-700000.0,0.0), Velocity: (-0.04,-18.0,0.0), Mass: (1.6e+20)"
       ]
      },
      {
       "output_type": "stream",
       "stream": "stdout",
       "text": [
        " 4000\n",
        "b: Position: (-100000000.0,700000.0,0.0), Velocity: (0.04,18.0,0.0), Mass: (1.6e+20) 4000\n",
        "c: Position: (-700000.0,-100000000.0,0.0), Velocity: (-18.0,0.04,0.0), Mass: (1.6e+20) 4000\n",
        "d: Position: (700000.0,100000000.0,0.0), Velocity: (18.0,-0.04,0.0), Mass: (1.6e+20) 4000\n",
        "a: Position: (100000000.0,-880000.0,0.0), Velocity: (-0.05,-18.0,0.0), Mass: (1.6e+20)"
       ]
      },
      {
       "output_type": "stream",
       "stream": "stdout",
       "text": [
        " 5000\n",
        "b: Position: (-100000000.0,880000.0,0.0), Velocity: (0.05,18.0,0.0), Mass: (1.6e+20) 5000\n",
        "c: Position: (-880000.0,-100000000.0,0.0), Velocity: (-18.0,0.05,0.0), Mass: (1.6e+20) 5000\n",
        "d: Position: (880000.0,100000000.0,0.0), Velocity: (18.0,-0.05,0.0), Mass: (1.6e+20) 5000\n",
        "a: Position: (100000000.0,-1100000.0,0.0), Velocity: (-0.059,-18.0,0.0), Mass: (1.6e+20)"
       ]
      },
      {
       "output_type": "stream",
       "stream": "stdout",
       "text": [
        " 6000\n",
        "b: Position: (-100000000.0,1100000.0,0.0), Velocity: (0.059,18.0,0.0), Mass: (1.6e+20) 6000\n",
        "c: Position: (-1100000.0,-100000000.0,0.0), Velocity: (-18.0,0.059,0.0), Mass: (1.6e+20) 6000\n",
        "d: Position: (1100000.0,100000000.0,0.0), Velocity: (18.0,-0.059,0.0), Mass: (1.6e+20) 6000\n",
        "a: Position: (100000000.0,-1200000.0,0.0), Velocity: (-0.069,-18.0,0.0), Mass: (1.6e+20)"
       ]
      },
      {
       "output_type": "stream",
       "stream": "stdout",
       "text": [
        " 7000\n",
        "b: Position: (-100000000.0,1200000.0,0.0), Velocity: (0.069,18.0,0.0), Mass: (1.6e+20) 7000\n",
        "c: Position: (-1200000.0,-100000000.0,0.0), Velocity: (-18.0,0.069,0.0), Mass: (1.6e+20) 7000\n",
        "d: Position: (1200000.0,100000000.0,0.0), Velocity: (18.0,-0.069,0.0), Mass: (1.6e+20) 7000\n",
        "a: Position: (100000000.0,-1400000.0,0.0), Velocity: (-0.079,-18.0,0.0), Mass: (1.6e+20)"
       ]
      },
      {
       "output_type": "stream",
       "stream": "stdout",
       "text": [
        " 8000\n",
        "b: Position: (-100000000.0,1400000.0,0.0), Velocity: (0.079,18.0,0.0), Mass: (1.6e+20) 8000\n",
        "c: Position: (-1400000.0,-100000000.0,0.0), Velocity: (-18.0,0.079,0.0), Mass: (1.6e+20) 8000\n",
        "d: Position: (1400000.0,100000000.0,0.0), Velocity: (18.0,-0.079,0.0), Mass: (1.6e+20) 8000\n",
        "a: Position: (100000000.0,-1600000.0,0.0), Velocity: (-0.089,-18.0,0.0), Mass: (1.6e+20)"
       ]
      },
      {
       "output_type": "stream",
       "stream": "stdout",
       "text": [
        " 9000\n",
        "b: Position: (-100000000.0,1600000.0,0.0), Velocity: (0.089,18.0,0.0), Mass: (1.6e+20) 9000\n",
        "c: Position: (-1600000.0,-100000000.0,0.0), Velocity: (-18.0,0.089,0.0), Mass: (1.6e+20) 9000\n",
        "d: Position: (1600000.0,100000000.0,0.0), Velocity: (18.0,-0.089,0.0), Mass: (1.6e+20) 9000\n",
        "a: Position: (100000000.0,-1800000.0,0.0), Velocity: (-0.099,-18.0,0.0), Mass: (1.6e+20)"
       ]
      },
      {
       "output_type": "stream",
       "stream": "stdout",
       "text": [
        " 10000\n",
        "b: Position: (-100000000.0,1800000.0,0.0), Velocity: (0.099,18.0,0.0), Mass: (1.6e+20) 10000\n",
        "c: Position: (-1800000.0,-100000000.0,0.0), Velocity: (-18.0,0.099,0.0), Mass: (1.6e+20) 10000\n",
        "d: Position: (1800000.0,100000000.0,0.0), Velocity: (18.0,-0.099,0.0), Mass: (1.6e+20) 10000\n",
        "a: Position: (100000000.0,-1900000.0,0.0), Velocity: (-0.11,-18.0,0.0), Mass: (1.6e+20)"
       ]
      },
      {
       "output_type": "stream",
       "stream": "stdout",
       "text": [
        " 11000\n",
        "b: Position: (-100000000.0,1900000.0,0.0), Velocity: (0.11,18.0,0.0), Mass: (1.6e+20) 11000\n",
        "c: Position: (-1900000.0,-100000000.0,0.0), Velocity: (-18.0,0.11,0.0), Mass: (1.6e+20) 11000\n",
        "d: Position: (1900000.0,100000000.0,0.0), Velocity: (18.0,-0.11,0.0), Mass: (1.6e+20) 11000\n",
        "a: Position: (100000000.0,-2100000.0,0.0), Velocity: (-0.12,-18.0,0.0), Mass: (1.6e+20)"
       ]
      },
      {
       "output_type": "stream",
       "stream": "stdout",
       "text": [
        " 12000\n",
        "b: Position: (-100000000.0,2100000.0,0.0), Velocity: (0.12,18.0,0.0), Mass: (1.6e+20) 12000\n",
        "c: Position: (-2100000.0,-100000000.0,0.0), Velocity: (-18.0,0.12,0.0), Mass: (1.6e+20) 12000\n",
        "d: Position: (2100000.0,100000000.0,0.0), Velocity: (18.0,-0.12,0.0), Mass: (1.6e+20) 12000\n",
        "a: Position: (100000000.0,-2300000.0,0.0), Velocity: (-0.13,-18.0,0.0), Mass: (1.6e+20)"
       ]
      },
      {
       "output_type": "stream",
       "stream": "stdout",
       "text": [
        " 13000\n",
        "b: Position: (-100000000.0,2300000.0,0.0), Velocity: (0.13,18.0,0.0), Mass: (1.6e+20) 13000\n",
        "c: Position: (-2300000.0,-100000000.0,0.0), Velocity: (-18.0,0.13,0.0), Mass: (1.6e+20) 13000\n",
        "d: Position: (2300000.0,100000000.0,0.0), Velocity: (18.0,-0.13,0.0), Mass: (1.6e+20) 13000\n",
        "a: Position: (100000000.0,-2500000.0,0.0), Velocity: (-0.14,-18.0,0.0), Mass: (1.6e+20)"
       ]
      },
      {
       "output_type": "stream",
       "stream": "stdout",
       "text": [
        " 14000\n",
        "b: Position: (-100000000.0,2500000.0,0.0), Velocity: (0.14,18.0,0.0), Mass: (1.6e+20) 14000\n",
        "c: Position: (-2500000.0,-100000000.0,0.0), Velocity: (-18.0,0.14,0.0), Mass: (1.6e+20) 14000\n",
        "d: Position: (2500000.0,100000000.0,0.0), Velocity: (18.0,-0.14,0.0), Mass: (1.6e+20) 14000\n",
        "a: Position: (100000000.0,-2600000.0,0.0), Velocity: (-0.15,-18.0,0.0), Mass: (1.6e+20)"
       ]
      },
      {
       "output_type": "stream",
       "stream": "stdout",
       "text": [
        " 15000\n",
        "b: Position: (-100000000.0,2600000.0,0.0), Velocity: (0.15,18.0,0.0), Mass: (1.6e+20) 15000\n",
        "c: Position: (-2600000.0,-100000000.0,0.0), Velocity: (-18.0,0.15,0.0), Mass: (1.6e+20) 15000\n",
        "d: Position: (2600000.0,100000000.0,0.0), Velocity: (18.0,-0.15,0.0), Mass: (1.6e+20) 15000\n",
        "a: Position: (100000000.0,-2800000.0,0.0), Velocity: (-0.16,-18.0,0.0), Mass: (1.6e+20)"
       ]
      },
      {
       "output_type": "stream",
       "stream": "stdout",
       "text": [
        " 16000\n",
        "b: Position: (-100000000.0,2800000.0,0.0), Velocity: (0.16,18.0,0.0), Mass: (1.6e+20) 16000\n",
        "c: Position: (-2800000.0,-100000000.0,0.0), Velocity: (-18.0,0.16,0.0), Mass: (1.6e+20) 16000\n",
        "d: Position: (2800000.0,100000000.0,0.0), Velocity: (18.0,-0.16,0.0), Mass: (1.6e+20) 16000\n",
        "a: Position: (100000000.0,-3000000.0,0.0), Velocity: (-0.17,-18.0,0.0), Mass: (1.6e+20)"
       ]
      },
      {
       "output_type": "stream",
       "stream": "stdout",
       "text": [
        " 17000\n",
        "b: Position: (-100000000.0,3000000.0,0.0), Velocity: (0.17,18.0,0.0), Mass: (1.6e+20) 17000\n",
        "c: Position: (-3000000.0,-100000000.0,0.0), Velocity: (-18.0,0.17,0.0), Mass: (1.6e+20) 17000\n",
        "d: Position: (3000000.0,100000000.0,0.0), Velocity: (18.0,-0.17,0.0), Mass: (1.6e+20) 17000\n",
        "a: Position: (100000000.0,-3200000.0,0.0), Velocity: (-0.18,-18.0,0.0), Mass: (1.6e+20)"
       ]
      },
      {
       "output_type": "stream",
       "stream": "stdout",
       "text": [
        " 18000\n",
        "b: Position: (-100000000.0,3200000.0,0.0), Velocity: (0.18,18.0,0.0), Mass: (1.6e+20) 18000\n",
        "c: Position: (-3200000.0,-100000000.0,0.0), Velocity: (-18.0,0.18,0.0), Mass: (1.6e+20) 18000\n",
        "d: Position: (3200000.0,100000000.0,0.0), Velocity: (18.0,-0.18,0.0), Mass: (1.6e+20) 18000\n",
        "a: Position: (100000000.0,-3300000.0,0.0), Velocity: (-0.19,-18.0,0.0), Mass: (1.6e+20)"
       ]
      },
      {
       "output_type": "stream",
       "stream": "stdout",
       "text": [
        " 19000\n",
        "b: Position: (-100000000.0,3300000.0,0.0), Velocity: (0.19,18.0,0.0), Mass: (1.6e+20) 19000\n",
        "c: Position: (-3300000.0,-100000000.0,0.0), Velocity: (-18.0,0.19,0.0), Mass: (1.6e+20) 19000\n",
        "d: Position: (3300000.0,100000000.0,0.0), Velocity: (18.0,-0.19,0.0), Mass: (1.6e+20) 19000\n",
        "a: Position: (100000000.0,-3500000.0,0.0), Velocity: (-0.2,-18.0,0.0), Mass: (1.6e+20)"
       ]
      },
      {
       "output_type": "stream",
       "stream": "stdout",
       "text": [
        " 20000\n",
        "b: Position: (-100000000.0,3500000.0,0.0), Velocity: (0.2,18.0,0.0), Mass: (1.6e+20) 20000\n",
        "c: Position: (-3500000.0,-100000000.0,0.0), Velocity: (-18.0,0.2,0.0), Mass: (1.6e+20) 20000\n",
        "d: Position: (3500000.0,100000000.0,0.0), Velocity: (18.0,-0.2,0.0), Mass: (1.6e+20) 20000\n",
        "a: Position: (100000000.0,-3700000.0,0.0), Velocity: (-0.21,-18.0,0.0), Mass: (1.6e+20)"
       ]
      },
      {
       "output_type": "stream",
       "stream": "stdout",
       "text": [
        " 21000\n",
        "b: Position: (-100000000.0,3700000.0,0.0), Velocity: (0.21,18.0,0.0), Mass: (1.6e+20) 21000\n",
        "c: Position: (-3700000.0,-100000000.0,0.0), Velocity: (-18.0,0.21,0.0), Mass: (1.6e+20) 21000\n",
        "d: Position: (3700000.0,100000000.0,0.0), Velocity: (18.0,-0.21,0.0), Mass: (1.6e+20) 21000\n",
        "a: Position: (100000000.0,-3900000.0,0.0), Velocity: (-0.22,-18.0,0.0), Mass: (1.6e+20)"
       ]
      },
      {
       "output_type": "stream",
       "stream": "stdout",
       "text": [
        " 22000\n",
        "b: Position: (-100000000.0,3900000.0,0.0), Velocity: (0.22,18.0,0.0), Mass: (1.6e+20) 22000\n",
        "c: Position: (-3900000.0,-100000000.0,0.0), Velocity: (-18.0,0.22,0.0), Mass: (1.6e+20) 22000\n",
        "d: Position: (3900000.0,100000000.0,0.0), Velocity: (18.0,-0.22,0.0), Mass: (1.6e+20) 22000\n",
        "a: Position: (100000000.0,-4100000.0,0.0), Velocity: (-0.23,-18.0,0.0), Mass: (1.6e+20)"
       ]
      },
      {
       "output_type": "stream",
       "stream": "stdout",
       "text": [
        " 23000\n",
        "b: Position: (-100000000.0,4100000.0,0.0), Velocity: (0.23,18.0,0.0), Mass: (1.6e+20) 23000\n",
        "c: Position: (-4100000.0,-100000000.0,0.0), Velocity: (-18.0,0.23,0.0), Mass: (1.6e+20) 23000\n",
        "d: Position: (4100000.0,100000000.0,0.0), Velocity: (18.0,-0.23,0.0), Mass: (1.6e+20) 23000\n",
        "a: Position: (100000000.0,-4200000.0,0.0), Velocity: (-0.24,-18.0,0.0), Mass: (1.6e+20)"
       ]
      },
      {
       "output_type": "stream",
       "stream": "stdout",
       "text": [
        " 24000\n",
        "b: Position: (-100000000.0,4200000.0,0.0), Velocity: (0.24,18.0,0.0), Mass: (1.6e+20) 24000\n",
        "c: Position: (-4200000.0,-100000000.0,0.0), Velocity: (-18.0,0.24,0.0), Mass: (1.6e+20) 24000\n",
        "d: Position: (4200000.0,100000000.0,0.0), Velocity: (18.0,-0.24,0.0), Mass: (1.6e+20) 24000\n",
        "a: Position: (100000000.0,-4400000.0,0.0), Velocity: (-0.25,-18.0,0.0), Mass: (1.6e+20)"
       ]
      },
      {
       "output_type": "stream",
       "stream": "stdout",
       "text": [
        " 25000\n",
        "b: Position: (-100000000.0,4400000.0,0.0), Velocity: (0.25,18.0,0.0), Mass: (1.6e+20) 25000\n",
        "c: Position: (-4400000.0,-100000000.0,0.0), Velocity: (-18.0,0.25,0.0), Mass: (1.6e+20) 25000\n",
        "d: Position: (4400000.0,100000000.0,0.0), Velocity: (18.0,-0.25,0.0), Mass: (1.6e+20) 25000\n",
        "a: Position: (100000000.0,-4600000.0,0.0), Velocity: (-0.26,-18.0,0.0), Mass: (1.6e+20)"
       ]
      },
      {
       "output_type": "stream",
       "stream": "stdout",
       "text": [
        " 26000\n",
        "b: Position: (-100000000.0,4600000.0,0.0), Velocity: (0.26,18.0,0.0), Mass: (1.6e+20) 26000\n",
        "c: Position: (-4600000.0,-100000000.0,0.0), Velocity: (-18.0,0.26,0.0), Mass: (1.6e+20) 26000\n",
        "d: Position: (4600000.0,100000000.0,0.0), Velocity: (18.0,-0.26,0.0), Mass: (1.6e+20) 26000\n",
        "a: Position: (100000000.0,-4800000.0,0.0), Velocity: (-0.27,-18.0,0.0), Mass: (1.6e+20)"
       ]
      },
      {
       "output_type": "stream",
       "stream": "stdout",
       "text": [
        " 27000\n",
        "b: Position: (-100000000.0,4800000.0,0.0), Velocity: (0.27,18.0,0.0), Mass: (1.6e+20) 27000\n",
        "c: Position: (-4800000.0,-100000000.0,0.0), Velocity: (-18.0,0.27,0.0), Mass: (1.6e+20) 27000\n",
        "d: Position: (4800000.0,100000000.0,0.0), Velocity: (18.0,-0.27,0.0), Mass: (1.6e+20) 27000\n",
        "a: Position: (100000000.0,-4900000.0,0.0), Velocity: (-0.28,-18.0,0.0), Mass: (1.6e+20)"
       ]
      },
      {
       "output_type": "stream",
       "stream": "stdout",
       "text": [
        " 28000\n",
        "b: Position: (-100000000.0,4900000.0,0.0), Velocity: (0.28,18.0,0.0), Mass: (1.6e+20) 28000\n",
        "c: Position: (-4900000.0,-100000000.0,0.0), Velocity: (-18.0,0.28,0.0), Mass: (1.6e+20) 28000\n",
        "d: Position: (4900000.0,100000000.0,0.0), Velocity: (18.0,-0.28,0.0), Mass: (1.6e+20) 28000\n",
        "a: Position: (100000000.0,-5100000.0,0.0), Velocity: (-0.29,-18.0,0.0), Mass: (1.6e+20)"
       ]
      },
      {
       "output_type": "stream",
       "stream": "stdout",
       "text": [
        " 29000\n",
        "b: Position: (-100000000.0,5100000.0,0.0), Velocity: (0.29,18.0,0.0), Mass: (1.6e+20) 29000\n",
        "c: Position: (-5100000.0,-100000000.0,0.0), Velocity: (-18.0,0.29,0.0), Mass: (1.6e+20) 29000\n",
        "d: Position: (5100000.0,100000000.0,0.0), Velocity: (18.0,-0.29,0.0), Mass: (1.6e+20) 29000\n",
        "a: Position: (100000000.0,-5300000.0,0.0), Velocity: (-0.3,-18.0,0.0), Mass: (1.6e+20)"
       ]
      },
      {
       "output_type": "stream",
       "stream": "stdout",
       "text": [
        " 30000\n",
        "b: Position: (-100000000.0,5300000.0,0.0), Velocity: (0.3,18.0,0.0), Mass: (1.6e+20) 30000\n",
        "c: Position: (-5300000.0,-100000000.0,0.0), Velocity: (-18.0,0.3,0.0), Mass: (1.6e+20) 30000\n",
        "d: Position: (5300000.0,100000000.0,0.0), Velocity: (18.0,-0.3,0.0), Mass: (1.6e+20) 30000\n",
        "a: Position: (100000000.0,-5500000.0,0.0), Velocity: (-0.31,-18.0,0.0), Mass: (1.6e+20)"
       ]
      },
      {
       "output_type": "stream",
       "stream": "stdout",
       "text": [
        " 31000\n",
        "b: Position: (-100000000.0,5500000.0,0.0), Velocity: (0.31,18.0,0.0), Mass: (1.6e+20) 31000\n",
        "c: Position: (-5500000.0,-100000000.0,0.0), Velocity: (-18.0,0.31,0.0), Mass: (1.6e+20) 31000\n",
        "d: Position: (5500000.0,100000000.0,0.0), Velocity: (18.0,-0.31,0.0), Mass: (1.6e+20) 31000\n",
        "a: Position: (100000000.0,-5600000.0,0.0), Velocity: (-0.32,-18.0,0.0), Mass: (1.6e+20)"
       ]
      },
      {
       "output_type": "stream",
       "stream": "stdout",
       "text": [
        " 32000\n",
        "b: Position: (-100000000.0,5600000.0,0.0), Velocity: (0.32,18.0,0.0), Mass: (1.6e+20) 32000\n",
        "c: Position: (-5600000.0,-100000000.0,0.0), Velocity: (-18.0,0.32,0.0), Mass: (1.6e+20) 32000\n",
        "d: Position: (5600000.0,100000000.0,0.0), Velocity: (18.0,-0.32,0.0), Mass: (1.6e+20) 32000\n",
        "a: Position: (100000000.0,-5800000.0,0.0), Velocity: (-0.33,-18.0,0.0), Mass: (1.6e+20)"
       ]
      },
      {
       "output_type": "stream",
       "stream": "stdout",
       "text": [
        " 33000\n",
        "b: Position: (-100000000.0,5800000.0,0.0), Velocity: (0.33,18.0,0.0), Mass: (1.6e+20) 33000\n",
        "c: Position: (-5800000.0,-100000000.0,0.0), Velocity: (-18.0,0.33,0.0), Mass: (1.6e+20) 33000\n",
        "d: Position: (5800000.0,100000000.0,0.0), Velocity: (18.0,-0.33,0.0), Mass: (1.6e+20) 33000\n",
        "a: Position: (100000000.0,-6000000.0,0.0), Velocity: (-0.34,-18.0,0.0), Mass: (1.6e+20)"
       ]
      },
      {
       "output_type": "stream",
       "stream": "stdout",
       "text": [
        " 34000\n",
        "b: Position: (-100000000.0,6000000.0,0.0), Velocity: (0.34,18.0,0.0), Mass: (1.6e+20) 34000\n",
        "c: Position: (-6000000.0,-100000000.0,0.0), Velocity: (-18.0,0.34,0.0), Mass: (1.6e+20) 34000\n",
        "d: Position: (6000000.0,100000000.0,0.0), Velocity: (18.0,-0.34,0.0), Mass: (1.6e+20) 34000\n",
        "a: Position: (100000000.0,-6200000.0,0.0), Velocity: (-0.35,-18.0,0.0), Mass: (1.6e+20)"
       ]
      },
      {
       "output_type": "stream",
       "stream": "stdout",
       "text": [
        " 35000\n",
        "b: Position: (-100000000.0,6200000.0,0.0), Velocity: (0.35,18.0,0.0), Mass: (1.6e+20) 35000\n",
        "c: Position: (-6200000.0,-100000000.0,0.0), Velocity: (-18.0,0.35,0.0), Mass: (1.6e+20) 35000\n",
        "d: Position: (6200000.0,100000000.0,0.0), Velocity: (18.0,-0.35,0.0), Mass: (1.6e+20) 35000\n",
        "a: Position: (100000000.0,-6300000.0,0.0), Velocity: (-0.36,-18.0,0.0), Mass: (1.6e+20)"
       ]
      },
      {
       "output_type": "stream",
       "stream": "stdout",
       "text": [
        " 36000\n",
        "b: Position: (-100000000.0,6300000.0,0.0), Velocity: (0.36,18.0,0.0), Mass: (1.6e+20) 36000\n",
        "c: Position: (-6300000.0,-100000000.0,0.0), Velocity: (-18.0,0.36,0.0), Mass: (1.6e+20) 36000\n",
        "d: Position: (6300000.0,100000000.0,0.0), Velocity: (18.0,-0.36,0.0), Mass: (1.6e+20) 36000\n",
        "a: Position: (100000000.0,-6500000.0,0.0), Velocity: (-0.37,-18.0,0.0), Mass: (1.6e+20)"
       ]
      },
      {
       "output_type": "stream",
       "stream": "stdout",
       "text": [
        " 37000\n",
        "b: Position: (-100000000.0,6500000.0,0.0), Velocity: (0.37,18.0,0.0), Mass: (1.6e+20) 37000\n",
        "c: Position: (-6500000.0,-100000000.0,0.0), Velocity: (-18.0,0.37,0.0), Mass: (1.6e+20) 37000\n",
        "d: Position: (6500000.0,100000000.0,0.0), Velocity: (18.0,-0.37,0.0), Mass: (1.6e+20) 37000\n",
        "a: Position: (100000000.0,-6700000.0,0.0), Velocity: (-0.38,-18.0,0.0), Mass: (1.6e+20)"
       ]
      },
      {
       "output_type": "stream",
       "stream": "stdout",
       "text": [
        " 38000\n",
        "b: Position: (-100000000.0,6700000.0,0.0), Velocity: (0.38,18.0,0.0), Mass: (1.6e+20) 38000\n",
        "c: Position: (-6700000.0,-100000000.0,0.0), Velocity: (-18.0,0.38,0.0), Mass: (1.6e+20) 38000\n",
        "d: Position: (6700000.0,100000000.0,0.0), Velocity: (18.0,-0.38,0.0), Mass: (1.6e+20) 38000\n",
        "a: Position: (100000000.0,-6900000.0,0.0), Velocity: (-0.39,-18.0,0.0), Mass: (1.6e+20)"
       ]
      },
      {
       "output_type": "stream",
       "stream": "stdout",
       "text": [
        " 39000\n",
        "b: Position: (-100000000.0,6900000.0,0.0), Velocity: (0.39,18.0,0.0), Mass: (1.6e+20) 39000\n",
        "c: Position: (-6900000.0,-100000000.0,0.0), Velocity: (-18.0,0.39,0.0), Mass: (1.6e+20) 39000\n",
        "d: Position: (6900000.0,100000000.0,0.0), Velocity: (18.0,-0.39,0.0), Mass: (1.6e+20) 39000\n",
        "a: Position: (100000000.0,-7000000.0,0.0), Velocity: (-0.4,-18.0,0.0), Mass: (1.6e+20)"
       ]
      },
      {
       "output_type": "stream",
       "stream": "stdout",
       "text": [
        " 40000\n",
        "b: Position: (-100000000.0,7000000.0,0.0), Velocity: (0.4,18.0,0.0), Mass: (1.6e+20) 40000\n",
        "c: Position: (-7000000.0,-100000000.0,0.0), Velocity: (-18.0,0.4,0.0), Mass: (1.6e+20) 40000\n",
        "d: Position: (7000000.0,100000000.0,0.0), Velocity: (18.0,-0.4,0.0), Mass: (1.6e+20) 40000\n",
        "a: Position: (100000000.0,-7200000.0,0.0), Velocity: (-0.41,-18.0,0.0), Mass: (1.6e+20)"
       ]
      },
      {
       "output_type": "stream",
       "stream": "stdout",
       "text": [
        " 41000\n",
        "b: Position: (-100000000.0,7200000.0,0.0), Velocity: (0.41,18.0,0.0), Mass: (1.6e+20) 41000\n",
        "c: Position: (-7200000.0,-100000000.0,0.0), Velocity: (-18.0,0.41,0.0), Mass: (1.6e+20) 41000\n",
        "d: Position: (7200000.0,100000000.0,0.0), Velocity: (18.0,-0.41,0.0), Mass: (1.6e+20) 41000\n",
        "a: Position: (100000000.0,-7400000.0,0.0), Velocity: (-0.41,-18.0,0.0), Mass: (1.6e+20)"
       ]
      },
      {
       "output_type": "stream",
       "stream": "stdout",
       "text": [
        " 42000\n",
        "b: Position: (-100000000.0,7400000.0,0.0), Velocity: (0.41,18.0,0.0), Mass: (1.6e+20) 42000\n",
        "c: Position: (-7400000.0,-100000000.0,0.0), Velocity: (-18.0,0.41,0.0), Mass: (1.6e+20) 42000\n",
        "d: Position: (7400000.0,100000000.0,0.0), Velocity: (18.0,-0.41,0.0), Mass: (1.6e+20) 42000\n",
        "a: Position: (100000000.0,-7600000.0,0.0), Velocity: (-0.42,-18.0,0.0), Mass: (1.6e+20)"
       ]
      },
      {
       "output_type": "stream",
       "stream": "stdout",
       "text": [
        " 43000\n",
        "b: Position: (-100000000.0,7600000.0,0.0), Velocity: (0.42,18.0,0.0), Mass: (1.6e+20) 43000\n",
        "c: Position: (-7600000.0,-100000000.0,0.0), Velocity: (-18.0,0.42,0.0), Mass: (1.6e+20) 43000\n",
        "d: Position: (7600000.0,100000000.0,0.0), Velocity: (18.0,-0.42,0.0), Mass: (1.6e+20) 43000\n",
        "a: Position: (100000000.0,-7700000.0,0.0), Velocity: (-0.43,-18.0,0.0), Mass: (1.6e+20)"
       ]
      },
      {
       "output_type": "stream",
       "stream": "stdout",
       "text": [
        " 44000\n",
        "b: Position: (-100000000.0,7700000.0,0.0), Velocity: (0.43,18.0,0.0), Mass: (1.6e+20) 44000\n",
        "c: Position: (-7700000.0,-100000000.0,0.0), Velocity: (-18.0,0.43,0.0), Mass: (1.6e+20) 44000\n",
        "d: Position: (7700000.0,100000000.0,0.0), Velocity: (18.0,-0.43,0.0), Mass: (1.6e+20) 44000\n",
        "a: Position: (100000000.0,-7900000.0,0.0), Velocity: (-0.44,-18.0,0.0), Mass: (1.6e+20)"
       ]
      },
      {
       "output_type": "stream",
       "stream": "stdout",
       "text": [
        " 45000\n",
        "b: Position: (-100000000.0,7900000.0,0.0), Velocity: (0.44,18.0,0.0), Mass: (1.6e+20) 45000\n",
        "c: Position: (-7900000.0,-100000000.0,0.0), Velocity: (-18.0,0.44,0.0), Mass: (1.6e+20) 45000\n",
        "d: Position: (7900000.0,100000000.0,0.0), Velocity: (18.0,-0.44,0.0), Mass: (1.6e+20) 45000\n",
        "a: Position: (100000000.0,-8100000.0,0.0), Velocity: (-0.45,-18.0,0.0), Mass: (1.6e+20)"
       ]
      },
      {
       "output_type": "stream",
       "stream": "stdout",
       "text": [
        " 46000\n",
        "b: Position: (-100000000.0,8100000.0,0.0), Velocity: (0.45,18.0,0.0), Mass: (1.6e+20) 46000\n",
        "c: Position: (-8100000.0,-100000000.0,0.0), Velocity: (-18.0,0.45,0.0), Mass: (1.6e+20) 46000\n",
        "d: Position: (8100000.0,100000000.0,0.0), Velocity: (18.0,-0.45,0.0), Mass: (1.6e+20) 46000\n",
        "a: Position: (100000000.0,-8300000.0,0.0), Velocity: (-0.46,-18.0,0.0), Mass: (1.6e+20)"
       ]
      },
      {
       "output_type": "stream",
       "stream": "stdout",
       "text": [
        " 47000\n",
        "b: Position: (-100000000.0,8300000.0,0.0), Velocity: (0.46,18.0,0.0), Mass: (1.6e+20) 47000\n",
        "c: Position: (-8300000.0,-100000000.0,0.0), Velocity: (-18.0,0.46,0.0), Mass: (1.6e+20) 47000\n",
        "d: Position: (8300000.0,100000000.0,0.0), Velocity: (18.0,-0.46,0.0), Mass: (1.6e+20) 47000\n",
        "a: Position: (100000000.0,-8500000.0,0.0), Velocity: (-0.47,-18.0,0.0), Mass: (1.6e+20)"
       ]
      },
      {
       "output_type": "stream",
       "stream": "stdout",
       "text": [
        " 48000\n",
        "b: Position: (-100000000.0,8500000.0,0.0), Velocity: (0.47,18.0,0.0), Mass: (1.6e+20) 48000\n",
        "c: Position: (-8500000.0,-100000000.0,0.0), Velocity: (-18.0,0.47,0.0), Mass: (1.6e+20) 48000\n",
        "d: Position: (8500000.0,100000000.0,0.0), Velocity: (18.0,-0.47,0.0), Mass: (1.6e+20) 48000\n",
        "a: Position: (100000000.0,-8600000.0,0.0), Velocity: (-0.48,-18.0,0.0), Mass: (1.6e+20)"
       ]
      },
      {
       "output_type": "stream",
       "stream": "stdout",
       "text": [
        " 49000\n",
        "b: Position: (-100000000.0,8600000.0,0.0), Velocity: (0.48,18.0,0.0), Mass: (1.6e+20) 49000\n",
        "c: Position: (-8600000.0,-100000000.0,0.0), Velocity: (-18.0,0.48,0.0), Mass: (1.6e+20) 49000\n",
        "d: Position: (8600000.0,100000000.0,0.0), Velocity: (18.0,-0.48,0.0), Mass: (1.6e+20) 49000\n",
        "a: Position: (100000000.0,-8800000.0,0.0), Velocity: (-0.49,-18.0,0.0), Mass: (1.6e+20)"
       ]
      },
      {
       "output_type": "stream",
       "stream": "stdout",
       "text": [
        " 50000\n",
        "b: Position: (-100000000.0,8800000.0,0.0), Velocity: (0.49,18.0,0.0), Mass: (1.6e+20) 50000\n",
        "c: Position: (-8800000.0,-100000000.0,0.0), Velocity: (-18.0,0.49,0.0), Mass: (1.6e+20) 50000\n",
        "d: Position: (8800000.0,100000000.0,0.0), Velocity: (18.0,-0.49,0.0), Mass: (1.6e+20) 50000\n",
        "a: Position: (100000000.0,-9000000.0,0.0), Velocity: (-0.5,-18.0,0.0), Mass: (1.6e+20)"
       ]
      },
      {
       "output_type": "stream",
       "stream": "stdout",
       "text": [
        " 51000\n",
        "b: Position: (-100000000.0,9000000.0,0.0), Velocity: (0.5,18.0,0.0), Mass: (1.6e+20) 51000\n",
        "c: Position: (-9000000.0,-100000000.0,0.0), Velocity: (-18.0,0.5,0.0), Mass: (1.6e+20) 51000\n",
        "d: Position: (9000000.0,100000000.0,0.0), Velocity: (18.0,-0.5,0.0), Mass: (1.6e+20) 51000\n",
        "a: Position: (100000000.0,-9200000.0,0.0), Velocity: (-0.51,-18.0,0.0), Mass: (1.6e+20)"
       ]
      },
      {
       "output_type": "stream",
       "stream": "stdout",
       "text": [
        " 52000\n",
        "b: Position: (-100000000.0,9200000.0,0.0), Velocity: (0.51,18.0,0.0), Mass: (1.6e+20) 52000\n",
        "c: Position: (-9200000.0,-100000000.0,0.0), Velocity: (-18.0,0.51,0.0), Mass: (1.6e+20) 52000\n",
        "d: Position: (9200000.0,100000000.0,0.0), Velocity: (18.0,-0.51,0.0), Mass: (1.6e+20) 52000\n",
        "a: Position: (100000000.0,-9300000.0,0.0), Velocity: (-0.52,-18.0,0.0), Mass: (1.6e+20)"
       ]
      },
      {
       "output_type": "stream",
       "stream": "stdout",
       "text": [
        " 53000\n",
        "b: Position: (-100000000.0,9300000.0,0.0), Velocity: (0.52,18.0,0.0), Mass: (1.6e+20) 53000\n",
        "c: Position: (-9300000.0,-100000000.0,0.0), Velocity: (-18.0,0.52,0.0), Mass: (1.6e+20) 53000\n",
        "d: Position: (9300000.0,100000000.0,0.0), Velocity: (18.0,-0.52,0.0), Mass: (1.6e+20) 53000\n",
        "a: Position: (100000000.0,-9500000.0,0.0), Velocity: (-0.53,-18.0,0.0), Mass: (1.6e+20)"
       ]
      },
      {
       "output_type": "stream",
       "stream": "stdout",
       "text": [
        " 54000\n",
        "b: Position: (-100000000.0,9500000.0,0.0), Velocity: (0.53,18.0,0.0), Mass: (1.6e+20) 54000\n",
        "c: Position: (-9500000.0,-100000000.0,0.0), Velocity: (-18.0,0.53,0.0), Mass: (1.6e+20) 54000\n",
        "d: Position: (9500000.0,100000000.0,0.0), Velocity: (18.0,-0.53,0.0), Mass: (1.6e+20) 54000\n",
        "a: Position: (100000000.0,-9700000.0,0.0), Velocity: (-0.54,-18.0,0.0), Mass: (1.6e+20)"
       ]
      },
      {
       "output_type": "stream",
       "stream": "stdout",
       "text": [
        " 55000\n",
        "b: Position: (-100000000.0,9700000.0,0.0), Velocity: (0.54,18.0,0.0), Mass: (1.6e+20) 55000\n",
        "c: Position: (-9700000.0,-100000000.0,0.0), Velocity: (-18.0,0.54,0.0), Mass: (1.6e+20) 55000\n",
        "d: Position: (9700000.0,100000000.0,0.0), Velocity: (18.0,-0.54,0.0), Mass: (1.6e+20) 55000\n",
        "a: Position: (100000000.0,-9900000.0,0.0), Velocity: (-0.55,-18.0,0.0), Mass: (1.6e+20)"
       ]
      },
      {
       "output_type": "stream",
       "stream": "stdout",
       "text": [
        " 56000\n",
        "b: Position: (-100000000.0,9900000.0,0.0), Velocity: (0.55,18.0,0.0), Mass: (1.6e+20) 56000\n",
        "c: Position: (-9900000.0,-100000000.0,0.0), Velocity: (-18.0,0.55,0.0), Mass: (1.6e+20) 56000\n",
        "d: Position: (9900000.0,100000000.0,0.0), Velocity: (18.0,-0.55,0.0), Mass: (1.6e+20) 56000\n",
        "a: Position: (100000000.0,-10000000.0,0.0), Velocity: (-0.56,-18.0,0.0), Mass: (1.6e+20)"
       ]
      },
      {
       "output_type": "stream",
       "stream": "stdout",
       "text": [
        " 57000\n",
        "b: Position: (-100000000.0,10000000.0,0.0), Velocity: (0.56,18.0,0.0), Mass: (1.6e+20) 57000\n",
        "c: Position: (-10000000.0,-100000000.0,0.0), Velocity: (-18.0,0.56,0.0), Mass: (1.6e+20) 57000\n",
        "d: Position: (10000000.0,100000000.0,0.0), Velocity: (18.0,-0.56,0.0), Mass: (1.6e+20) 57000\n",
        "a: Position: (100000000.0,-10000000.0,0.0), Velocity: (-0.57,-18.0,0.0), Mass: (1.6e+20)"
       ]
      },
      {
       "output_type": "stream",
       "stream": "stdout",
       "text": [
        " 58000\n",
        "b: Position: (-100000000.0,10000000.0,0.0), Velocity: (0.57,18.0,0.0), Mass: (1.6e+20) 58000\n",
        "c: Position: (-10000000.0,-100000000.0,0.0), Velocity: (-18.0,0.57,0.0), Mass: (1.6e+20) 58000\n",
        "d: Position: (10000000.0,100000000.0,0.0), Velocity: (18.0,-0.57,0.0), Mass: (1.6e+20) 58000\n",
        "a: Position: (100000000.0,-10000000.0,0.0), Velocity: (-0.58,-18.0,0.0), Mass: (1.6e+20)"
       ]
      },
      {
       "output_type": "stream",
       "stream": "stdout",
       "text": [
        " 59000\n",
        "b: Position: (-100000000.0,10000000.0,0.0), Velocity: (0.58,18.0,0.0), Mass: (1.6e+20) 59000\n",
        "c: Position: (-10000000.0,-100000000.0,0.0), Velocity: (-18.0,0.58,0.0), Mass: (1.6e+20) 59000\n",
        "d: Position: (10000000.0,100000000.0,0.0), Velocity: (18.0,-0.58,0.0), Mass: (1.6e+20) 59000\n",
        "a: Position: (100000000.0,-11000000.0,0.0), Velocity: (-0.59,-18.0,0.0), Mass: (1.6e+20)"
       ]
      },
      {
       "output_type": "stream",
       "stream": "stdout",
       "text": [
        " 60000\n",
        "b: Position: (-100000000.0,11000000.0,0.0), Velocity: (0.59,18.0,0.0), Mass: (1.6e+20) 60000\n",
        "c: Position: (-11000000.0,-100000000.0,0.0), Velocity: (-18.0,0.59,0.0), Mass: (1.6e+20) 60000\n",
        "d: Position: (11000000.0,100000000.0,0.0), Velocity: (18.0,-0.59,0.0), Mass: (1.6e+20) 60000\n",
        "a: Position: (100000000.0,-11000000.0,0.0), Velocity: (-0.6,-18.0,0.0), Mass: (1.6e+20)"
       ]
      },
      {
       "output_type": "stream",
       "stream": "stdout",
       "text": [
        " 61000\n",
        "b: Position: (-100000000.0,11000000.0,0.0), Velocity: (0.6,18.0,0.0), Mass: (1.6e+20) 61000\n",
        "c: Position: (-11000000.0,-100000000.0,0.0), Velocity: (-18.0,0.6,0.0), Mass: (1.6e+20) 61000\n",
        "d: Position: (11000000.0,100000000.0,0.0), Velocity: (18.0,-0.6,0.0), Mass: (1.6e+20) 61000\n",
        "a: Position: (100000000.0,-11000000.0,0.0), Velocity: (-0.61,-18.0,0.0), Mass: (1.6e+20)"
       ]
      },
      {
       "output_type": "stream",
       "stream": "stdout",
       "text": [
        " 62000\n",
        "b: Position: (-100000000.0,11000000.0,0.0), Velocity: (0.61,18.0,0.0), Mass: (1.6e+20) 62000\n",
        "c: Position: (-11000000.0,-100000000.0,0.0), Velocity: (-18.0,0.61,0.0), Mass: (1.6e+20) 62000\n",
        "d: Position: (11000000.0,100000000.0,0.0), Velocity: (18.0,-0.61,0.0), Mass: (1.6e+20) 62000\n",
        "a: Position: (100000000.0,-11000000.0,0.0), Velocity: (-0.62,-18.0,0.0), Mass: (1.6e+20)"
       ]
      },
      {
       "output_type": "stream",
       "stream": "stdout",
       "text": [
        " 63000\n",
        "b: Position: (-100000000.0,11000000.0,0.0), Velocity: (0.62,18.0,0.0), Mass: (1.6e+20) 63000\n",
        "c: Position: (-11000000.0,-100000000.0,0.0), Velocity: (-18.0,0.62,0.0), Mass: (1.6e+20) 63000\n",
        "d: Position: (11000000.0,100000000.0,0.0), Velocity: (18.0,-0.62,0.0), Mass: (1.6e+20) 63000\n",
        "a: Position: (100000000.0,-11000000.0,0.0), Velocity: (-0.63,-18.0,0.0), Mass: (1.6e+20)"
       ]
      },
      {
       "output_type": "stream",
       "stream": "stdout",
       "text": [
        " 64000\n",
        "b: Position: (-100000000.0,11000000.0,0.0), Velocity: (0.63,18.0,0.0), Mass: (1.6e+20) 64000\n",
        "c: Position: (-11000000.0,-100000000.0,0.0), Velocity: (-18.0,0.63,0.0), Mass: (1.6e+20) 64000\n",
        "d: Position: (11000000.0,100000000.0,0.0), Velocity: (18.0,-0.63,0.0), Mass: (1.6e+20) 64000\n",
        "a: Position: (100000000.0,-11000000.0,0.0), Velocity: (-0.64,-18.0,0.0), Mass: (1.6e+20)"
       ]
      },
      {
       "output_type": "stream",
       "stream": "stdout",
       "text": [
        " 65000\n",
        "b: Position: (-100000000.0,11000000.0,0.0), Velocity: (0.64,18.0,0.0), Mass: (1.6e+20) 65000\n",
        "c: Position: (-11000000.0,-100000000.0,0.0), Velocity: (-18.0,0.64,0.0), Mass: (1.6e+20) 65000\n",
        "d: Position: (11000000.0,100000000.0,0.0), Velocity: (18.0,-0.64,0.0), Mass: (1.6e+20) 65000\n",
        "a: Position: (100000000.0,-12000000.0,0.0), Velocity: (-0.65,-18.0,0.0), Mass: (1.6e+20)"
       ]
      },
      {
       "output_type": "stream",
       "stream": "stdout",
       "text": [
        " 66000\n",
        "b: Position: (-100000000.0,12000000.0,0.0), Velocity: (0.65,18.0,0.0), Mass: (1.6e+20) 66000\n",
        "c: Position: (-12000000.0,-100000000.0,0.0), Velocity: (-18.0,0.65,0.0), Mass: (1.6e+20) 66000\n",
        "d: Position: (12000000.0,100000000.0,0.0), Velocity: (18.0,-0.65,0.0), Mass: (1.6e+20) 66000\n",
        "a: Position: (100000000.0,-12000000.0,0.0), Velocity: (-0.66,-18.0,0.0), Mass: (1.6e+20)"
       ]
      },
      {
       "output_type": "stream",
       "stream": "stdout",
       "text": [
        " 67000\n",
        "b: Position: (-100000000.0,12000000.0,0.0), Velocity: (0.66,18.0,0.0), Mass: (1.6e+20) 67000\n",
        "c: Position: (-12000000.0,-100000000.0,0.0), Velocity: (-18.0,0.66,0.0), Mass: (1.6e+20) 67000\n",
        "d: Position: (12000000.0,100000000.0,0.0), Velocity: (18.0,-0.66,0.0), Mass: (1.6e+20) 67000\n",
        "a: Position: (100000000.0,-12000000.0,0.0), Velocity: (-0.67,-18.0,0.0), Mass: (1.6e+20)"
       ]
      },
      {
       "output_type": "stream",
       "stream": "stdout",
       "text": [
        " 68000\n",
        "b: Position: (-100000000.0,12000000.0,0.0), Velocity: (0.67,18.0,0.0), Mass: (1.6e+20) 68000\n",
        "c: Position: (-12000000.0,-100000000.0,0.0), Velocity: (-18.0,0.67,0.0), Mass: (1.6e+20) 68000\n",
        "d: Position: (12000000.0,100000000.0,0.0), Velocity: (18.0,-0.67,0.0), Mass: (1.6e+20) 68000\n",
        "a: Position: (100000000.0,-12000000.0,0.0), Velocity: (-0.68,-18.0,0.0), Mass: (1.6e+20)"
       ]
      },
      {
       "output_type": "stream",
       "stream": "stdout",
       "text": [
        " 69000\n",
        "b: Position: (-100000000.0,12000000.0,0.0), Velocity: (0.68,18.0,0.0), Mass: (1.6e+20) 69000\n",
        "c: Position: (-12000000.0,-100000000.0,0.0), Velocity: (-18.0,0.68,0.0), Mass: (1.6e+20) 69000\n",
        "d: Position: (12000000.0,100000000.0,0.0), Velocity: (18.0,-0.68,0.0), Mass: (1.6e+20) 69000\n",
        "a: Position: (100000000.0,-12000000.0,0.0), Velocity: (-0.69,-18.0,0.0), Mass: (1.6e+20)"
       ]
      },
      {
       "output_type": "stream",
       "stream": "stdout",
       "text": [
        " 70000\n",
        "b: Position: (-100000000.0,12000000.0,0.0), Velocity: (0.69,18.0,0.0), Mass: (1.6e+20) 70000\n",
        "c: Position: (-12000000.0,-100000000.0,0.0), Velocity: (-18.0,0.69,0.0), Mass: (1.6e+20) 70000\n",
        "d: Position: (12000000.0,100000000.0,0.0), Velocity: (18.0,-0.69,0.0), Mass: (1.6e+20) 70000\n",
        "a: Position: (100000000.0,-12000000.0,0.0), Velocity: (-0.7,-18.0,0.0), Mass: (1.6e+20)"
       ]
      },
      {
       "output_type": "stream",
       "stream": "stdout",
       "text": [
        " 71000\n",
        "b: Position: (-100000000.0,12000000.0,0.0), Velocity: (0.7,18.0,0.0), Mass: (1.6e+20) 71000\n",
        "c: Position: (-12000000.0,-100000000.0,0.0), Velocity: (-18.0,0.7,0.0), Mass: (1.6e+20) 71000\n",
        "d: Position: (12000000.0,100000000.0,0.0), Velocity: (18.0,-0.7,0.0), Mass: (1.6e+20) 71000\n",
        "a: Position: (100000000.0,-13000000.0,0.0), Velocity: (-0.71,-18.0,0.0), Mass: (1.6e+20)"
       ]
      },
      {
       "output_type": "stream",
       "stream": "stdout",
       "text": [
        " 72000\n",
        "b: Position: (-100000000.0,13000000.0,0.0), Velocity: (0.71,18.0,0.0), Mass: (1.6e+20) 72000\n",
        "c: Position: (-13000000.0,-100000000.0,0.0), Velocity: (-18.0,0.71,0.0), Mass: (1.6e+20) 72000\n",
        "d: Position: (13000000.0,100000000.0,0.0), Velocity: (18.0,-0.71,0.0), Mass: (1.6e+20) 72000\n",
        "a: Position: (100000000.0,-13000000.0,0.0), Velocity: (-0.72,-18.0,0.0), Mass: (1.6e+20)"
       ]
      },
      {
       "output_type": "stream",
       "stream": "stdout",
       "text": [
        " 73000\n",
        "b: Position: (-100000000.0,13000000.0,0.0), Velocity: (0.72,18.0,0.0), Mass: (1.6e+20) 73000\n",
        "c: Position: (-13000000.0,-100000000.0,0.0), Velocity: (-18.0,0.72,0.0), Mass: (1.6e+20) 73000\n",
        "d: Position: (13000000.0,100000000.0,0.0), Velocity: (18.0,-0.72,0.0), Mass: (1.6e+20) 73000\n",
        "a: Position: (100000000.0,-13000000.0,0.0), Velocity: (-0.73,-18.0,0.0), Mass: (1.6e+20)"
       ]
      },
      {
       "output_type": "stream",
       "stream": "stdout",
       "text": [
        " 74000\n",
        "b: Position: (-100000000.0,13000000.0,0.0), Velocity: (0.73,18.0,0.0), Mass: (1.6e+20) 74000\n",
        "c: Position: (-13000000.0,-100000000.0,0.0), Velocity: (-18.0,0.73,0.0), Mass: (1.6e+20) 74000\n",
        "d: Position: (13000000.0,100000000.0,0.0), Velocity: (18.0,-0.73,0.0), Mass: (1.6e+20) 74000\n",
        "a: Position: (100000000.0,-13000000.0,0.0), Velocity: (-0.74,-18.0,0.0), Mass: (1.6e+20)"
       ]
      },
      {
       "output_type": "stream",
       "stream": "stdout",
       "text": [
        " 75000\n",
        "b: Position: (-100000000.0,13000000.0,0.0), Velocity: (0.74,18.0,0.0), Mass: (1.6e+20) 75000\n",
        "c: Position: (-13000000.0,-100000000.0,0.0), Velocity: (-18.0,0.74,0.0), Mass: (1.6e+20) 75000\n",
        "d: Position: (13000000.0,100000000.0,0.0), Velocity: (18.0,-0.74,0.0), Mass: (1.6e+20) 75000\n",
        "a: Position: (100000000.0,-13000000.0,0.0), Velocity: (-0.75,-18.0,0.0), Mass: (1.6e+20)"
       ]
      },
      {
       "output_type": "stream",
       "stream": "stdout",
       "text": [
        " 76000\n",
        "b: Position: (-100000000.0,13000000.0,0.0), Velocity: (0.75,18.0,0.0), Mass: (1.6e+20) 76000\n",
        "c: Position: (-13000000.0,-100000000.0,0.0), Velocity: (-18.0,0.75,0.0), Mass: (1.6e+20) 76000\n",
        "d: Position: (13000000.0,100000000.0,0.0), Velocity: (18.0,-0.75,0.0), Mass: (1.6e+20) 76000\n",
        "a: Position: (100000000.0,-14000000.0,0.0), Velocity: (-0.76,-18.0,0.0), Mass: (1.6e+20)"
       ]
      },
      {
       "output_type": "stream",
       "stream": "stdout",
       "text": [
        " 77000\n",
        "b: Position: (-100000000.0,14000000.0,0.0), Velocity: (0.76,18.0,0.0), Mass: (1.6e+20) 77000\n",
        "c: Position: (-14000000.0,-100000000.0,0.0), Velocity: (-18.0,0.76,0.0), Mass: (1.6e+20) 77000\n",
        "d: Position: (14000000.0,100000000.0,0.0), Velocity: (18.0,-0.76,0.0), Mass: (1.6e+20) 77000\n",
        "a: Position: (100000000.0,-14000000.0,0.0), Velocity: (-0.77,-18.0,0.0), Mass: (1.6e+20)"
       ]
      },
      {
       "output_type": "stream",
       "stream": "stdout",
       "text": [
        " 78000\n",
        "b: Position: (-100000000.0,14000000.0,0.0), Velocity: (0.77,18.0,0.0), Mass: (1.6e+20) 78000\n",
        "c: Position: (-14000000.0,-100000000.0,0.0), Velocity: (-18.0,0.77,0.0), Mass: (1.6e+20) 78000\n",
        "d: Position: (14000000.0,100000000.0,0.0), Velocity: (18.0,-0.77,0.0), Mass: (1.6e+20) 78000\n",
        "a: Position: (100000000.0,-14000000.0,0.0), Velocity: (-0.78,-18.0,0.0), Mass: (1.6e+20)"
       ]
      },
      {
       "output_type": "stream",
       "stream": "stdout",
       "text": [
        " 79000\n",
        "b: Position: (-100000000.0,14000000.0,0.0), Velocity: (0.78,18.0,0.0), Mass: (1.6e+20) 79000\n",
        "c: Position: (-14000000.0,-100000000.0,0.0), Velocity: (-18.0,0.78,0.0), Mass: (1.6e+20) 79000\n",
        "d: Position: (14000000.0,100000000.0,0.0), Velocity: (18.0,-0.78,0.0), Mass: (1.6e+20) 79000\n",
        "a: Position: (100000000.0,-14000000.0,0.0), Velocity: (-0.79,-18.0,0.0), Mass: (1.6e+20)"
       ]
      },
      {
       "output_type": "stream",
       "stream": "stdout",
       "text": [
        " 80000\n",
        "b: Position: (-100000000.0,14000000.0,0.0), Velocity: (0.79,18.0,0.0), Mass: (1.6e+20) 80000\n",
        "c: Position: (-14000000.0,-100000000.0,0.0), Velocity: (-18.0,0.79,0.0), Mass: (1.6e+20) 80000\n",
        "d: Position: (14000000.0,100000000.0,0.0), Velocity: (18.0,-0.79,0.0), Mass: (1.6e+20) 80000\n",
        "a: Position: (100000000.0,-14000000.0,0.0), Velocity: (-0.8,-18.0,0.0), Mass: (1.6e+20)"
       ]
      },
      {
       "output_type": "stream",
       "stream": "stdout",
       "text": [
        " 81000\n",
        "b: Position: (-100000000.0,14000000.0,0.0), Velocity: (0.8,18.0,0.0), Mass: (1.6e+20) 81000\n",
        "c: Position: (-14000000.0,-100000000.0,0.0), Velocity: (-18.0,0.8,0.0), Mass: (1.6e+20) 81000\n",
        "d: Position: (14000000.0,100000000.0,0.0), Velocity: (18.0,-0.8,0.0), Mass: (1.6e+20) 81000\n",
        "a: Position: (100000000.0,-14000000.0,0.0), Velocity: (-0.81,-18.0,0.0), Mass: (1.6e+20)"
       ]
      },
      {
       "output_type": "stream",
       "stream": "stdout",
       "text": [
        " 82000\n",
        "b: Position: (-100000000.0,14000000.0,0.0), Velocity: (0.81,18.0,0.0), Mass: (1.6e+20) 82000\n",
        "c: Position: (-14000000.0,-100000000.0,0.0), Velocity: (-18.0,0.81,0.0), Mass: (1.6e+20) 82000\n",
        "d: Position: (14000000.0,100000000.0,0.0), Velocity: (18.0,-0.81,0.0), Mass: (1.6e+20) 82000\n",
        "a: Position: (100000000.0,-15000000.0,0.0), Velocity: (-0.81,-18.0,0.0), Mass: (1.6e+20)"
       ]
      },
      {
       "output_type": "stream",
       "stream": "stdout",
       "text": [
        " 83000\n",
        "b: Position: (-100000000.0,15000000.0,0.0), Velocity: (0.81,18.0,0.0), Mass: (1.6e+20) 83000\n",
        "c: Position: (-15000000.0,-100000000.0,0.0), Velocity: (-18.0,0.81,0.0), Mass: (1.6e+20) 83000\n",
        "d: Position: (15000000.0,100000000.0,0.0), Velocity: (18.0,-0.81,0.0), Mass: (1.6e+20) 83000\n",
        "a: Position: (100000000.0,-15000000.0,0.0), Velocity: (-0.82,-18.0,0.0), Mass: (1.6e+20)"
       ]
      },
      {
       "output_type": "stream",
       "stream": "stdout",
       "text": [
        " 84000\n",
        "b: Position: (-100000000.0,15000000.0,0.0), Velocity: (0.82,18.0,0.0), Mass: (1.6e+20) 84000\n",
        "c: Position: (-15000000.0,-100000000.0,0.0), Velocity: (-18.0,0.82,0.0), Mass: (1.6e+20) 84000\n",
        "d: Position: (15000000.0,100000000.0,0.0), Velocity: (18.0,-0.82,0.0), Mass: (1.6e+20) 84000\n",
        "a: Position: (100000000.0,-15000000.0,0.0), Velocity: (-0.83,-18.0,0.0), Mass: (1.6e+20)"
       ]
      },
      {
       "output_type": "stream",
       "stream": "stdout",
       "text": [
        " 85000\n",
        "b: Position: (-100000000.0,15000000.0,0.0), Velocity: (0.83,18.0,0.0), Mass: (1.6e+20) 85000\n",
        "c: Position: (-15000000.0,-100000000.0,0.0), Velocity: (-18.0,0.83,0.0), Mass: (1.6e+20) 85000\n",
        "d: Position: (15000000.0,100000000.0,0.0), Velocity: (18.0,-0.83,0.0), Mass: (1.6e+20) 85000\n",
        "a: Position: (100000000.0,-15000000.0,0.0), Velocity: (-0.84,-18.0,0.0), Mass: (1.6e+20)"
       ]
      },
      {
       "output_type": "stream",
       "stream": "stdout",
       "text": [
        " 86000\n",
        "b: Position: (-100000000.0,15000000.0,0.0), Velocity: (0.84,18.0,0.0), Mass: (1.6e+20) 86000\n",
        "c: Position: (-15000000.0,-100000000.0,0.0), Velocity: (-18.0,0.84,0.0), Mass: (1.6e+20) 86000\n",
        "d: Position: (15000000.0,100000000.0,0.0), Velocity: (18.0,-0.84,0.0), Mass: (1.6e+20) 86000\n",
        "a: Position: (100000000.0,-15000000.0,0.0), Velocity: (-0.85,-18.0,0.0), Mass: (1.6e+20)"
       ]
      },
      {
       "output_type": "stream",
       "stream": "stdout",
       "text": [
        " 87000\n",
        "b: Position: (-100000000.0,15000000.0,0.0), Velocity: (0.85,18.0,0.0), Mass: (1.6e+20) 87000\n",
        "c: Position: (-15000000.0,-100000000.0,0.0), Velocity: (-18.0,0.85,0.0), Mass: (1.6e+20) 87000\n",
        "d: Position: (15000000.0,100000000.0,0.0), Velocity: (18.0,-0.85,0.0), Mass: (1.6e+20) 87000\n",
        "a: Position: (100000000.0,-15000000.0,0.0), Velocity: (-0.86,-18.0,0.0), Mass: (1.6e+20)"
       ]
      },
      {
       "output_type": "stream",
       "stream": "stdout",
       "text": [
        " 88000\n",
        "b: Position: (-100000000.0,15000000.0,0.0), Velocity: (0.86,18.0,0.0), Mass: (1.6e+20) 88000\n",
        "c: Position: (-15000000.0,-100000000.0,0.0), Velocity: (-18.0,0.86,0.0), Mass: (1.6e+20) 88000\n",
        "d: Position: (15000000.0,100000000.0,0.0), Velocity: (18.0,-0.86,0.0), Mass: (1.6e+20) 88000\n",
        "a: Position: (100000000.0,-16000000.0,0.0), Velocity: (-0.87,-18.0,0.0), Mass: (1.6e+20)"
       ]
      },
      {
       "output_type": "stream",
       "stream": "stdout",
       "text": [
        " 89000\n",
        "b: Position: (-100000000.0,16000000.0,0.0), Velocity: (0.87,18.0,0.0), Mass: (1.6e+20) 89000\n",
        "c: Position: (-16000000.0,-100000000.0,0.0), Velocity: (-18.0,0.87,0.0), Mass: (1.6e+20) 89000\n",
        "d: Position: (16000000.0,100000000.0,0.0), Velocity: (18.0,-0.87,0.0), Mass: (1.6e+20) 89000\n",
        "a: Position: (100000000.0,-16000000.0,0.0), Velocity: (-0.88,-18.0,0.0), Mass: (1.6e+20)"
       ]
      },
      {
       "output_type": "stream",
       "stream": "stdout",
       "text": [
        " 90000\n",
        "b: Position: (-100000000.0,16000000.0,0.0), Velocity: (0.88,18.0,0.0), Mass: (1.6e+20) 90000\n",
        "c: Position: (-16000000.0,-100000000.0,0.0), Velocity: (-18.0,0.88,0.0), Mass: (1.6e+20) 90000\n",
        "d: Position: (16000000.0,100000000.0,0.0), Velocity: (18.0,-0.88,0.0), Mass: (1.6e+20) 90000\n",
        "a: Position: (100000000.0,-16000000.0,0.0), Velocity: (-0.89,-18.0,0.0), Mass: (1.6e+20)"
       ]
      },
      {
       "output_type": "stream",
       "stream": "stdout",
       "text": [
        " 91000\n",
        "b: Position: (-100000000.0,16000000.0,0.0), Velocity: (0.89,18.0,0.0), Mass: (1.6e+20) 91000\n",
        "c: Position: (-16000000.0,-100000000.0,0.0), Velocity: (-18.0,0.89,0.0), Mass: (1.6e+20) 91000\n",
        "d: Position: (16000000.0,100000000.0,0.0), Velocity: (18.0,-0.89,0.0), Mass: (1.6e+20) 91000\n",
        "a: Position: (100000000.0,-16000000.0,0.0), Velocity: (-0.9,-18.0,0.0), Mass: (1.6e+20)"
       ]
      },
      {
       "output_type": "stream",
       "stream": "stdout",
       "text": [
        " 92000\n",
        "b: Position: (-100000000.0,16000000.0,0.0), Velocity: (0.9,18.0,0.0), Mass: (1.6e+20) 92000\n",
        "c: Position: (-16000000.0,-100000000.0,0.0), Velocity: (-18.0,0.9,0.0), Mass: (1.6e+20) 92000\n",
        "d: Position: (16000000.0,100000000.0,0.0), Velocity: (18.0,-0.9,0.0), Mass: (1.6e+20) 92000\n",
        "a: Position: (100000000.0,-16000000.0,0.0), Velocity: (-0.91,-18.0,0.0), Mass: (1.6e+20)"
       ]
      },
      {
       "output_type": "stream",
       "stream": "stdout",
       "text": [
        " 93000\n",
        "b: Position: (-100000000.0,16000000.0,0.0), Velocity: (0.91,18.0,0.0), Mass: (1.6e+20) 93000\n",
        "c: Position: (-16000000.0,-100000000.0,0.0), Velocity: (-18.0,0.91,0.0), Mass: (1.6e+20) 93000\n",
        "d: Position: (16000000.0,100000000.0,0.0), Velocity: (18.0,-0.91,0.0), Mass: (1.6e+20) 93000\n",
        "a: Position: (100000000.0,-17000000.0,0.0), Velocity: (-0.92,-18.0,0.0), Mass: (1.6e+20)"
       ]
      },
      {
       "output_type": "stream",
       "stream": "stdout",
       "text": [
        " 94000\n",
        "b: Position: (-100000000.0,17000000.0,0.0), Velocity: (0.92,18.0,0.0), Mass: (1.6e+20) 94000\n",
        "c: Position: (-17000000.0,-100000000.0,0.0), Velocity: (-18.0,0.92,0.0), Mass: (1.6e+20) 94000\n",
        "d: Position: (17000000.0,100000000.0,0.0), Velocity: (18.0,-0.92,0.0), Mass: (1.6e+20) 94000\n",
        "a: Position: (100000000.0,-17000000.0,0.0), Velocity: (-0.93,-18.0,0.0), Mass: (1.6e+20)"
       ]
      },
      {
       "output_type": "stream",
       "stream": "stdout",
       "text": [
        " 95000\n",
        "b: Position: (-100000000.0,17000000.0,0.0), Velocity: (0.93,18.0,0.0), Mass: (1.6e+20) 95000\n",
        "c: Position: (-17000000.0,-100000000.0,0.0), Velocity: (-18.0,0.93,0.0), Mass: (1.6e+20) 95000\n",
        "d: Position: (17000000.0,100000000.0,0.0), Velocity: (18.0,-0.93,0.0), Mass: (1.6e+20) 95000\n",
        "a: Position: (100000000.0,-17000000.0,0.0), Velocity: (-0.94,-18.0,0.0), Mass: (1.6e+20)"
       ]
      },
      {
       "output_type": "stream",
       "stream": "stdout",
       "text": [
        " 96000\n",
        "b: Position: (-100000000.0,17000000.0,0.0), Velocity: (0.94,18.0,0.0), Mass: (1.6e+20) 96000\n",
        "c: Position: (-17000000.0,-100000000.0,0.0), Velocity: (-18.0,0.94,0.0), Mass: (1.6e+20) 96000\n",
        "d: Position: (17000000.0,100000000.0,0.0), Velocity: (18.0,-0.94,0.0), Mass: (1.6e+20) 96000\n",
        "a: Position: (100000000.0,-17000000.0,0.0), Velocity: (-0.95,-18.0,0.0), Mass: (1.6e+20)"
       ]
      },
      {
       "output_type": "stream",
       "stream": "stdout",
       "text": [
        " 97000\n",
        "b: Position: (-100000000.0,17000000.0,0.0), Velocity: (0.95,18.0,0.0), Mass: (1.6e+20) 97000\n",
        "c: Position: (-17000000.0,-100000000.0,0.0), Velocity: (-18.0,0.95,0.0), Mass: (1.6e+20) 97000\n",
        "d: Position: (17000000.0,100000000.0,0.0), Velocity: (18.0,-0.95,0.0), Mass: (1.6e+20) 97000\n",
        "a: Position: (100000000.0,-17000000.0,0.0), Velocity: (-0.96,-18.0,0.0), Mass: (1.6e+20)"
       ]
      },
      {
       "output_type": "stream",
       "stream": "stdout",
       "text": [
        " 98000\n",
        "b: Position: (-100000000.0,17000000.0,0.0), Velocity: (0.96,18.0,0.0), Mass: (1.6e+20) 98000\n",
        "c: Position: (-17000000.0,-100000000.0,0.0), Velocity: (-18.0,0.96,0.0), Mass: (1.6e+20) 98000\n",
        "d: Position: (17000000.0,100000000.0,0.0), Velocity: (18.0,-0.96,0.0), Mass: (1.6e+20) 98000\n",
        "a: Position: (100000000.0,-17000000.0,0.0), Velocity: (-0.97,-18.0,0.0), Mass: (1.6e+20)"
       ]
      },
      {
       "output_type": "stream",
       "stream": "stdout",
       "text": [
        " 99000\n",
        "b: Position: (-100000000.0,17000000.0,0.0), Velocity: (0.97,18.0,0.0), Mass: (1.6e+20) 99000\n",
        "c: Position: (-17000000.0,-100000000.0,0.0), Velocity: (-18.0,0.97,0.0), Mass: (1.6e+20) 99000\n",
        "d: Position: (17000000.0,100000000.0,0.0), Velocity: (18.0,-0.97,0.0), Mass: (1.6e+20) 99000\n",
        "Time: "
       ]
      },
      {
       "output_type": "stream",
       "stream": "stdout",
       "text": [
        " 0 mins\n"
       ]
      }
     ],
     "prompt_number": 5
    },
    {
     "cell_type": "code",
     "collapsed": false,
     "input": [],
     "language": "python",
     "metadata": {},
     "outputs": []
    }
   ],
   "metadata": {}
  }
 ]
}