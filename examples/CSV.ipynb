{
 "metadata": {
  "name": "",
  "signature": "sha256:7c0d6088d64dcc04e8f155b846d4e7d6cf777a538984b3021bc795208397fb86"
 },
 "nbformat": 3,
 "nbformat_minor": 0,
 "worksheets": [
  {
   "cells": [
    {
     "cell_type": "code",
     "collapsed": false,
     "input": [
      "import csv\n",
      "from PyGravity import *\n",
      "base = PyGravity()\n",
      "base.time_interval = 60*60"
     ],
     "language": "python",
     "metadata": {},
     "outputs": [],
     "prompt_number": 1
    },
    {
     "cell_type": "code",
     "collapsed": false,
     "input": [
      "#load paricles from CSV file\n",
      "base.read_file('./example_data.csv')\n",
      "for item in base.particle_list:\n",
      "    print item\n",
      "\n"
     ],
     "language": "python",
     "metadata": {},
     "outputs": [
      {
       "output_type": "stream",
       "stream": "stdout",
       "text": [
        "a: Position: [  1.00000000e+10   0.00000000e+00   0.00000000e+00], Velocity: [ 0.      -5.61464  0.     ], Mass: 3.55e+21\n",
        "b: Position: [ -1.00000000e+10   0.00000000e+00   0.00000000e+00], Velocity: [ 0.       5.61464  0.     ], Mass: 3.55e+21\n",
        "c: Position: [  0.00000000e+00  -1.00000000e+10   0.00000000e+00], Velocity: [-5.61464  0.       0.     ], Mass: 3.55e+21\n",
        "d: Position: [  0.00000000e+00   1.00000000e+10   0.00000000e+00], Velocity: [ 5.61464  0.       0.     ], Mass: 3.55e+21\n"
       ]
      }
     ],
     "prompt_number": 2
    },
    {
     "cell_type": "code",
     "collapsed": false,
     "input": [
      "for i in range(20):\n",
      "    base.step_all()\n",
      "    if i % 5 == 0:\n",
      "        print (base.currant_time*base.time_interval)/60, 'minutes'\n",
      "        for item in base.particle_list:\n",
      "            print item"
     ],
     "language": "python",
     "metadata": {},
     "outputs": [
      {
       "output_type": "stream",
       "stream": "stdout",
       "text": [
        "0 minutes\n",
        "a: Position: [  1.00000000e+10  -2.02127040e+04   0.00000000e+00], Velocity: [ -8.16332407e-06  -5.61464000e+00   0.00000000e+00], Mass: 3.55e+21\n",
        "b: Position: [ -1.00000000e+10   2.02127040e+04   0.00000000e+00], Velocity: [  8.16332407e-06   5.61464000e+00   0.00000000e+00], Mass: 3.55e+21\n",
        "c: Position: [ -2.02127040e+04  -1.00000000e+10   0.00000000e+00], Velocity: [ -5.61464000e+00   8.16332407e-06   0.00000000e+00], Mass: 3.55e+21\n",
        "d: Position: [  2.02127040e+04   1.00000000e+10   0.00000000e+00], Velocity: [  5.61464000e+00  -8.16332407e-06   0.00000000e+00], Mass: 3.55e+21\n",
        "0 minutes\n",
        "a: Position: [  1.00000000e+10  -1.21276224e+05   0.00000000e+00], Velocity: [ -4.89799444e-05  -5.61464000e+00   0.00000000e+00], Mass: 3.55e+21\n",
        "b: Position: [ -1.00000000e+10   1.21276224e+05   0.00000000e+00], Velocity: [  4.89799444e-05   5.61464000e+00   0.00000000e+00], Mass: 3.55e+21\n",
        "c: Position: [ -1.21276224e+05  -1.00000000e+10   0.00000000e+00], Velocity: [ -5.61464000e+00   4.89799444e-05   0.00000000e+00], Mass: 3.55e+21\n",
        "d: Position: [  1.21276224e+05   1.00000000e+10   0.00000000e+00], Velocity: [  5.61464000e+00  -4.89799444e-05   0.00000000e+00], Mass: 3.55e+21\n",
        "0 minutes\n",
        "a: Position: [  1.00000000e+10  -2.22339744e+05   0.00000000e+00], Velocity: [ -8.97965648e-05  -5.61464000e+00   0.00000000e+00], Mass: 3.55e+21\n",
        "b: Position: [ -1.00000000e+10   2.22339744e+05   0.00000000e+00], Velocity: [  8.97965648e-05   5.61464000e+00   0.00000000e+00], Mass: 3.55e+21\n",
        "c: Position: [ -2.22339744e+05  -1.00000000e+10   0.00000000e+00], Velocity: [ -5.61464000e+00   8.97965648e-05   0.00000000e+00], Mass: 3.55e+21\n",
        "d: Position: [  2.22339744e+05   1.00000000e+10   0.00000000e+00], Velocity: [  5.61464000e+00  -8.97965648e-05   0.00000000e+00], Mass: 3.55e+21\n",
        "0 minutes\n",
        "a: Position: [  1.00000000e+10  -3.23403264e+05   0.00000000e+00], Velocity: [ -1.30613185e-04  -5.61464000e+00   0.00000000e+00], Mass: 3.55e+21\n",
        "b: Position: [ -1.00000000e+10   3.23403264e+05   0.00000000e+00], Velocity: [  1.30613185e-04   5.61464000e+00   0.00000000e+00], Mass: 3.55e+21"
       ]
      },
      {
       "output_type": "stream",
       "stream": "stdout",
       "text": [
        "\n",
        "c: Position: [ -3.23403264e+05  -1.00000000e+10   0.00000000e+00], Velocity: [ -5.61464000e+00   1.30613185e-04   0.00000000e+00], Mass: 3.55e+21\n",
        "d: Position: [  3.23403264e+05   1.00000000e+10   0.00000000e+00], Velocity: [  5.61464000e+00  -1.30613185e-04   0.00000000e+00], Mass: 3.55e+21\n"
       ]
      }
     ],
     "prompt_number": 3
    },
    {
     "cell_type": "code",
     "collapsed": false,
     "input": [],
     "language": "python",
     "metadata": {},
     "outputs": [],
     "prompt_number": 3
    },
    {
     "cell_type": "code",
     "collapsed": false,
     "input": [],
     "language": "python",
     "metadata": {},
     "outputs": []
    }
   ],
   "metadata": {}
  }
 ]
}