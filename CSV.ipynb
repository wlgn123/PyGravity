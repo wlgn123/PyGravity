{
 "metadata": {
  "name": ""
 },
 "nbformat": 3,
 "nbformat_minor": 0,
 "worksheets": [
  {
   "cells": [
    {
     "cell_type": "code",
     "collapsed": false,
     "input": [
      "import csv\n",
      "from libs import Vector, Particle, Physics\n",
      "base = Physics()\n",
      "base.timestep = 60*60"
     ],
     "language": "python",
     "metadata": {},
     "outputs": [],
     "prompt_number": 1
    },
    {
     "cell_type": "code",
     "collapsed": false,
     "input": [
      "#load paricles from CSV file\n",
      "base.read_file('./test_data.csv')\n",
      "for item in base.objects:\n",
      "    print item.round(4)\n",
      "\n"
     ],
     "language": "python",
     "metadata": {},
     "outputs": [
      {
       "output_type": "stream",
       "stream": "stdout",
       "text": [
        "a: Position: (1.1,1.2,1.3), Velocity: (0,0,0), Mass: (50.0)\n",
        "b: Position: (2.2,2.3,1.3), Velocity: (0,0,0), Mass: (23.0)\n",
        "c: Position: (1.4,2.4,2.3), Velocity: (0,0,0), Mass: (10.0)\n",
        "d: Position: (2.1E+20,2.1E+21,2.1E+19), Velocity: (-2.1E+20,-2.1E+21,-2.1E+19), Mass: (20.0)\n"
       ]
      }
     ],
     "prompt_number": 2
    },
    {
     "cell_type": "code",
     "collapsed": false,
     "input": [
      "for i in range(20):\n",
      "    base.step_all()\n",
      "    if i % 5 == 0:\n",
      "        print (base.total_steps*base.timestep)/60, 'nds'\n",
      "        for item in base.objects:\n",
      "            print item.round(2)"
     ],
     "language": "python",
     "metadata": {},
     "outputs": [
      {
       "output_type": "stream",
       "stream": "stdout",
       "text": [
        "3600 seconds\n",
        "a: Position: (1.1,1.2,1.3), Velocity: (0.0000018,0.0000023,6E-7), Mass: (50.0)\n",
        "b: Position: (2.2,2.3,1.3), Velocity: (-0.0000044,-0.0000034,0.0000011), Mass: (23.0)\n",
        "c: Position: (1.4,2.4,2.3), Velocity: (0.0000012,-0.0000038,-0.0000056), Mass: (10.0)\n",
        "d: Position: (-7.6E+23,-7.6E+24,-7.6E+22), Velocity: (-2.1E+20,-2.1E+21,-2.1E+19), Mass: (20.0)\n",
        "21600"
       ]
      },
      {
       "output_type": "stream",
       "stream": "stdout",
       "text": [
        " seconds\n",
        "a: Position: (1.3,1.4,1.4), Velocity: (0.000015,0.000019,0.0000051), Mass: (50.0)\n",
        "b: Position: (1.8,2.0,1.4), Velocity: (-0.000037,-0.000028,0.00001), Mass: (23.0)\n",
        "c: Position: (1.5,2.0,1.8), Velocity: (0.000011,-0.000033,-0.000049), Mass: (10.0)\n",
        "d: Position: (-4.5E+24,-4.5E+25,-4.5E+23), Velocity: (-2.1E+20,-2.1E+21,-2.1E+19), Mass: (20.0)\n",
        "39600"
       ]
      },
      {
       "output_type": "stream",
       "stream": "stdout",
       "text": [
        " seconds\n",
        "a: Position: (2.0,2.4,1.6), Velocity: (0.000046,0.000062,0.000017), Mass: (50.0)\n",
        "b: Position: (-4.2,9.5,17.0), Velocity: (-0.00041,0.00053,0.001), Mass: (23.0)\n",
        "c: Position: (12.0,-20.0,-34.0), Velocity: (0.0007,-0.0015,-0.0025), Mass: (10.0)\n",
        "d: Position: (-8.3E+24,-8.3E+25,-8.3E+23), Velocity: (-2.1E+20,-2.1E+21,-2.1E+19), Mass: (20.0)\n",
        "57600"
       ]
      },
      {
       "output_type": "stream",
       "stream": "stdout",
       "text": [
        " seconds\n",
        "a: Position: (2.8,3.5,1.9), Velocity: (0.000046,0.000062,0.000017), Mass: (50.0)\n",
        "b: Position: (-12.0,19.0,35.0), Velocity: (-0.00041,0.00053,0.001), Mass: (23.0)\n",
        "c: Position: (24.0,-48.0,-79.0), Velocity: (0.0007,-0.0015,-0.0025), Mass: (10.0)\n",
        "d: Position: (-1.2E+25,-1.2E+26,-1.2E+24), Velocity: (-2.1E+20,-2.1E+21,-2.1E+19), Mass: (20.0)\n"
       ]
      }
     ],
     "prompt_number": 3
    },
    {
     "cell_type": "code",
     "collapsed": false,
     "input": [],
     "language": "python",
     "metadata": {},
     "outputs": [],
     "prompt_number": 3
    }
   ],
   "metadata": {}
  }
 ]
}