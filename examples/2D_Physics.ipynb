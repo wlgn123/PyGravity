{
 "metadata": {
  "name": "",
  "signature": "sha256:4536c2c9d1fcf9ace924a8970b1fb685d4caa27b2f7d1378e2a622c9f470832c"
 },
 "nbformat": 3,
 "nbformat_minor": 0,
 "worksheets": [
  {
   "cells": [
    {
     "cell_type": "code",
     "collapsed": false,
     "input": [
      "import numpy as np\n",
      "import matplotlib.pyplot as plt\n",
      "\n",
      "import PyGravity\n",
      "\n",
      "base = PyGravity.PyGravity()    # start by making base instance \n",
      "base.set_dimension(3)           # not needed for dim 3, but here it is\n",
      "\n",
      "\n",
      "base.read_file('example_data.csv')\n",
      "\n",
      "base.set_time_interval(60)\n",
      "base.set_precision(200)\n",
      "\n",
      "ax = []\n",
      "ay = []\n",
      "bx = []\n",
      "by = []\n",
      "cx = []\n",
      "cy = []\n",
      "dx = []\n",
      "dy = []\n",
      "for i in range(90):\n",
      "    if i % 10 == 0:\n",
      "        print base.particle_list[0].round(2)\n",
      "    ax.append(base.particle_list[0].P[0])\n",
      "    ay.append(base.particle_list[0].P[1])\n",
      "    bx.append(base.particle_list[1].P[0])\n",
      "    by.append(base.particle_list[1].P[1])\n",
      "    cx.append(base.particle_list[2].P[0])\n",
      "    cy.append(base.particle_list[2].P[1])\n",
      "    dx.append(base.particle_list[3].P[0])\n",
      "    dy.append(base.particle_list[3].P[1])\n",
      "\n",
      "    base.step_all()\n",
      "    \n",
      "print 'Time: ', (base.currant_time), 'mins'\n",
      "plt.scatter(ax, ay, s=10, c='b', alpha=0.5)\n",
      "plt.scatter(bx, by, s=10, c='r', alpha=0.5)\n",
      "plt.scatter(cx, cy, s=10, c='g', alpha=0.5)\n",
      "plt.scatter(dx, dy, s=10, c='y', alpha=0.5)\n",
      "plt.show()\n"
     ],
     "language": "python",
     "metadata": {},
     "outputs": [
      {
       "output_type": "stream",
       "stream": "stdout",
       "text": [
        "a: Position: (100.0,0,0), Velocity: (0,-0.09,0), Mass: (16000000000.0)\n",
        "a: Position: (80.0,-51.0,0), Velocity: (-0.059,-0.075,0), Mass: (16000000000.0)"
       ]
      },
      {
       "output_type": "stream",
       "stream": "stdout",
       "text": [
        "\n",
        "a: Position: (29.0,-80.0,0), Velocity: (-0.11,-0.021,0), Mass: (16000000000.0)"
       ]
      },
      {
       "output_type": "stream",
       "stream": "stdout",
       "text": [
        "\n",
        "a: Position: (-37.0,-64.0,0), Velocity: (-0.1,0.07,0), Mass: (16000000000.0)"
       ]
      },
      {
       "output_type": "stream",
       "stream": "stdout",
       "text": [
        "\n",
        "a: Position: (-69.0,3.0,0), Velocity: (-0.0045,0.13,0), Mass: (16000000000.0)"
       ]
      },
      {
       "output_type": "stream",
       "stream": "stdout",
       "text": [
        "\n",
        "a: Position: (-37.0,68.0,0), Velocity: (0.091,0.077,0), Mass: (16000000000.0)"
       ]
      },
      {
       "output_type": "stream",
       "stream": "stdout",
       "text": [
        "\n",
        "a: Position: (25.0,85.0,0), Velocity: (0.1,-0.0077,0), Mass: (16000000000.0)"
       ]
      },
      {
       "output_type": "stream",
       "stream": "stdout",
       "text": [
        "\n",
        "a: Position: (77.0,60.0,0), Velocity: (0.067,-0.065,0), Mass: (16000000000.0)"
       ]
      },
      {
       "output_type": "stream",
       "stream": "stdout",
       "text": [
        "\n",
        "a: Position: (100.0,12.0,0), Velocity: (0.013,-0.089,0), Mass: (16000000000.0)"
       ]
      },
      {
       "output_type": "stream",
       "stream": "stdout",
       "text": [
        "\n",
        "Time: "
       ]
      },
      {
       "output_type": "stream",
       "stream": "stdout",
       "text": [
        " 90 mins\n"
       ]
      }
     ],
     "prompt_number": 5
    },
    {
     "cell_type": "code",
     "collapsed": false,
     "input": [],
     "language": "python",
     "metadata": {},
     "outputs": []
    }
   ],
   "metadata": {}
  }
 ]
}